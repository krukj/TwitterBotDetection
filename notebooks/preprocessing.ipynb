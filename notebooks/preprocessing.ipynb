{
 "cells": [
  {
   "cell_type": "code",
   "execution_count": 1,
   "metadata": {},
   "outputs": [],
   "source": [
    "import pandas as pd\n",
    "import sys\n",
    "import os\n",
    "import warnings\n",
    "\n",
    "warnings.filterwarnings(\"ignore\", category=FutureWarning)\n",
    "sys.path.append(os.path.abspath(os.path.join(os.getcwd(), \"..\", \"src\")))\n",
    "\n",
    "from preprocessing import TweetFeatureExtractor, TweetProcessor\n",
    "\n",
    "DATA_PATH = \"../data\""
   ]
  },
  {
   "cell_type": "code",
   "execution_count": 9,
   "metadata": {},
   "outputs": [],
   "source": [
    "train = pd.read_json(DATA_PATH + \"/Twibot20/tweets/train.json\")\n",
    "y = train[\"label\"]\n",
    "X = train.drop(columns=[\"label\"])"
   ]
  },
  {
   "cell_type": "code",
   "execution_count": 10,
   "metadata": {},
   "outputs": [
    {
     "data": {
      "text/html": [
       "<div>\n",
       "<style scoped>\n",
       "    .dataframe tbody tr th:only-of-type {\n",
       "        vertical-align: middle;\n",
       "    }\n",
       "\n",
       "    .dataframe tbody tr th {\n",
       "        vertical-align: top;\n",
       "    }\n",
       "\n",
       "    .dataframe thead th {\n",
       "        text-align: right;\n",
       "    }\n",
       "</style>\n",
       "<table border=\"1\" class=\"dataframe\">\n",
       "  <thead>\n",
       "    <tr style=\"text-align: right;\">\n",
       "      <th></th>\n",
       "      <th>ID</th>\n",
       "      <th>profile</th>\n",
       "      <th>tweet</th>\n",
       "      <th>neighbor</th>\n",
       "      <th>domain</th>\n",
       "      <th>label</th>\n",
       "    </tr>\n",
       "  </thead>\n",
       "  <tbody>\n",
       "    <tr>\n",
       "      <th>0</th>\n",
       "      <td>17461978</td>\n",
       "      <td>{'id': '17461978 ', 'id_str': '17461978 ', 'na...</td>\n",
       "      <td>[RT @CarnivalCruise: 🎉 Are you ready to see wh...</td>\n",
       "      <td>None</td>\n",
       "      <td>[Politics, Business, Entertainment]</td>\n",
       "      <td>0</td>\n",
       "    </tr>\n",
       "    <tr>\n",
       "      <th>1</th>\n",
       "      <td>1297437077403885568</td>\n",
       "      <td>{'id': '1297437077403885568 ', 'id_str': '1297...</td>\n",
       "      <td>None</td>\n",
       "      <td>{'following': ['170861207', '23970102', '47293...</td>\n",
       "      <td>[Politics]</td>\n",
       "      <td>1</td>\n",
       "    </tr>\n",
       "    <tr>\n",
       "      <th>2</th>\n",
       "      <td>17685258</td>\n",
       "      <td>{'id': '17685258 ', 'id_str': '17685258 ', 'na...</td>\n",
       "      <td>[RT @realDonaldTrump: THANK YOU #RNC2020! http...</td>\n",
       "      <td>{'following': ['46464108', '21536398', '186434...</td>\n",
       "      <td>[Politics, Entertainment, Sports]</td>\n",
       "      <td>0</td>\n",
       "    </tr>\n",
       "    <tr>\n",
       "      <th>3</th>\n",
       "      <td>15750898</td>\n",
       "      <td>{'id': '15750898 ', 'id_str': '15750898 ', 'na...</td>\n",
       "      <td>[A family fears they may have been cheated out...</td>\n",
       "      <td>{'following': ['2324715174', '24030137', '2336...</td>\n",
       "      <td>[Politics]</td>\n",
       "      <td>0</td>\n",
       "    </tr>\n",
       "    <tr>\n",
       "      <th>4</th>\n",
       "      <td>1659167666</td>\n",
       "      <td>{'id': '1659167666 ', 'id_str': '1659167666 ',...</td>\n",
       "      <td>[RT @VonteThePlug: Yeah but he ain’t got one h...</td>\n",
       "      <td>{'following': ['1628313708', '726405625', '130...</td>\n",
       "      <td>[Politics]</td>\n",
       "      <td>1</td>\n",
       "    </tr>\n",
       "  </tbody>\n",
       "</table>\n",
       "</div>"
      ],
      "text/plain": [
       "                    ID                                            profile  \\\n",
       "0             17461978  {'id': '17461978 ', 'id_str': '17461978 ', 'na...   \n",
       "1  1297437077403885568  {'id': '1297437077403885568 ', 'id_str': '1297...   \n",
       "2             17685258  {'id': '17685258 ', 'id_str': '17685258 ', 'na...   \n",
       "3             15750898  {'id': '15750898 ', 'id_str': '15750898 ', 'na...   \n",
       "4           1659167666  {'id': '1659167666 ', 'id_str': '1659167666 ',...   \n",
       "\n",
       "                                               tweet  \\\n",
       "0  [RT @CarnivalCruise: 🎉 Are you ready to see wh...   \n",
       "1                                               None   \n",
       "2  [RT @realDonaldTrump: THANK YOU #RNC2020! http...   \n",
       "3  [A family fears they may have been cheated out...   \n",
       "4  [RT @VonteThePlug: Yeah but he ain’t got one h...   \n",
       "\n",
       "                                            neighbor  \\\n",
       "0                                               None   \n",
       "1  {'following': ['170861207', '23970102', '47293...   \n",
       "2  {'following': ['46464108', '21536398', '186434...   \n",
       "3  {'following': ['2324715174', '24030137', '2336...   \n",
       "4  {'following': ['1628313708', '726405625', '130...   \n",
       "\n",
       "                                domain  label  \n",
       "0  [Politics, Business, Entertainment]      0  \n",
       "1                           [Politics]      1  \n",
       "2    [Politics, Entertainment, Sports]      0  \n",
       "3                           [Politics]      0  \n",
       "4                           [Politics]      1  "
      ]
     },
     "execution_count": 10,
     "metadata": {},
     "output_type": "execute_result"
    }
   ],
   "source": [
    "train.head()"
   ]
  },
  {
   "cell_type": "code",
   "execution_count": 11,
   "metadata": {},
   "outputs": [],
   "source": [
    "from sklearn.pipeline import Pipeline\n",
    "\n",
    "pipeline = Pipeline(\n",
    "    steps=[\n",
    "        (\"feature_extractor\", TweetFeatureExtractor()),\n",
    "        (\"tweet_processor\", TweetProcessor()),\n",
    "    ]\n",
    ")"
   ]
  },
  {
   "cell_type": "code",
   "execution_count": 13,
   "metadata": {},
   "outputs": [],
   "source": [
    "X_transformed = pipeline.transform(X=X)"
   ]
  },
  {
   "cell_type": "code",
   "execution_count": 14,
   "metadata": {},
   "outputs": [
    {
     "data": {
      "text/html": [
       "<div>\n",
       "<style scoped>\n",
       "    .dataframe tbody tr th:only-of-type {\n",
       "        vertical-align: middle;\n",
       "    }\n",
       "\n",
       "    .dataframe tbody tr th {\n",
       "        vertical-align: top;\n",
       "    }\n",
       "\n",
       "    .dataframe thead th {\n",
       "        text-align: right;\n",
       "    }\n",
       "</style>\n",
       "<table border=\"1\" class=\"dataframe\">\n",
       "  <thead>\n",
       "    <tr style=\"text-align: right;\">\n",
       "      <th></th>\n",
       "      <th>ID</th>\n",
       "      <th>profile</th>\n",
       "      <th>tweet</th>\n",
       "      <th>neighbor</th>\n",
       "      <th>domain</th>\n",
       "      <th>tweets_joined</th>\n",
       "      <th>avg_word_count</th>\n",
       "      <th>avg_character_count</th>\n",
       "      <th>avg_hashtag_count</th>\n",
       "      <th>avg_mention_count</th>\n",
       "      <th>avg_link_count</th>\n",
       "      <th>avg_emoji_count</th>\n",
       "      <th>avg_positive_word_count</th>\n",
       "      <th>avg_negative_word_count</th>\n",
       "    </tr>\n",
       "  </thead>\n",
       "  <tbody>\n",
       "    <tr>\n",
       "      <th>0</th>\n",
       "      <td>17461978</td>\n",
       "      <td>{'id': '17461978 ', 'id_str': '17461978 ', 'na...</td>\n",
       "      <td>[RT @CarnivalCruise: 🎉 Are you ready to see wh...</td>\n",
       "      <td>None</td>\n",
       "      <td>[Politics, Business, Entertainment]</td>\n",
       "      <td>rt USER EMOJI ready see newest ship’s name wil...</td>\n",
       "      <td>24.565000</td>\n",
       "      <td>166.275000</td>\n",
       "      <td>0.760000</td>\n",
       "      <td>1.855</td>\n",
       "      <td>1.035000</td>\n",
       "      <td>0.265000</td>\n",
       "      <td>0.935000</td>\n",
       "      <td>0.240000</td>\n",
       "    </tr>\n",
       "    <tr>\n",
       "      <th>1</th>\n",
       "      <td>1297437077403885568</td>\n",
       "      <td>{'id': '1297437077403885568 ', 'id_str': '1297...</td>\n",
       "      <td>None</td>\n",
       "      <td>{'following': ['170861207', '23970102', '47293...</td>\n",
       "      <td>[Politics]</td>\n",
       "      <td></td>\n",
       "      <td>0.000000</td>\n",
       "      <td>0.000000</td>\n",
       "      <td>0.000000</td>\n",
       "      <td>0.000</td>\n",
       "      <td>0.000000</td>\n",
       "      <td>0.000000</td>\n",
       "      <td>0.000000</td>\n",
       "      <td>0.000000</td>\n",
       "    </tr>\n",
       "    <tr>\n",
       "      <th>2</th>\n",
       "      <td>17685258</td>\n",
       "      <td>{'id': '17685258 ', 'id_str': '17685258 ', 'na...</td>\n",
       "      <td>[RT @realDonaldTrump: THANK YOU #RNC2020! http...</td>\n",
       "      <td>{'following': ['46464108', '21536398', '186434...</td>\n",
       "      <td>[Politics, Entertainment, Sports]</td>\n",
       "      <td>rt USER thank rnc2020 LINK sep great takeaways...</td>\n",
       "      <td>20.770000</td>\n",
       "      <td>139.155000</td>\n",
       "      <td>0.185000</td>\n",
       "      <td>1.020</td>\n",
       "      <td>0.480000</td>\n",
       "      <td>0.175000</td>\n",
       "      <td>0.680000</td>\n",
       "      <td>0.485000</td>\n",
       "    </tr>\n",
       "    <tr>\n",
       "      <th>3</th>\n",
       "      <td>15750898</td>\n",
       "      <td>{'id': '15750898 ', 'id_str': '15750898 ', 'na...</td>\n",
       "      <td>[A family fears they may have been cheated out...</td>\n",
       "      <td>{'following': ['2324715174', '24030137', '2336...</td>\n",
       "      <td>[Politics]</td>\n",
       "      <td>family fears may cheated 20000 donations raise...</td>\n",
       "      <td>24.530000</td>\n",
       "      <td>166.195000</td>\n",
       "      <td>0.305000</td>\n",
       "      <td>0.500</td>\n",
       "      <td>0.865000</td>\n",
       "      <td>0.075000</td>\n",
       "      <td>0.510000</td>\n",
       "      <td>0.475000</td>\n",
       "    </tr>\n",
       "    <tr>\n",
       "      <th>4</th>\n",
       "      <td>1659167666</td>\n",
       "      <td>{'id': '1659167666 ', 'id_str': '1659167666 ',...</td>\n",
       "      <td>[RT @VonteThePlug: Yeah but he ain’t got one h...</td>\n",
       "      <td>{'following': ['1628313708', '726405625', '130...</td>\n",
       "      <td>[Politics]</td>\n",
       "      <td>rt USER yeah ain’t got one happy song nigga al...</td>\n",
       "      <td>13.579545</td>\n",
       "      <td>85.761364</td>\n",
       "      <td>0.068182</td>\n",
       "      <td>0.625</td>\n",
       "      <td>0.670455</td>\n",
       "      <td>0.602273</td>\n",
       "      <td>0.318182</td>\n",
       "      <td>0.545455</td>\n",
       "    </tr>\n",
       "  </tbody>\n",
       "</table>\n",
       "</div>"
      ],
      "text/plain": [
       "                    ID                                            profile  \\\n",
       "0             17461978  {'id': '17461978 ', 'id_str': '17461978 ', 'na...   \n",
       "1  1297437077403885568  {'id': '1297437077403885568 ', 'id_str': '1297...   \n",
       "2             17685258  {'id': '17685258 ', 'id_str': '17685258 ', 'na...   \n",
       "3             15750898  {'id': '15750898 ', 'id_str': '15750898 ', 'na...   \n",
       "4           1659167666  {'id': '1659167666 ', 'id_str': '1659167666 ',...   \n",
       "\n",
       "                                               tweet  \\\n",
       "0  [RT @CarnivalCruise: 🎉 Are you ready to see wh...   \n",
       "1                                               None   \n",
       "2  [RT @realDonaldTrump: THANK YOU #RNC2020! http...   \n",
       "3  [A family fears they may have been cheated out...   \n",
       "4  [RT @VonteThePlug: Yeah but he ain’t got one h...   \n",
       "\n",
       "                                            neighbor  \\\n",
       "0                                               None   \n",
       "1  {'following': ['170861207', '23970102', '47293...   \n",
       "2  {'following': ['46464108', '21536398', '186434...   \n",
       "3  {'following': ['2324715174', '24030137', '2336...   \n",
       "4  {'following': ['1628313708', '726405625', '130...   \n",
       "\n",
       "                                domain  \\\n",
       "0  [Politics, Business, Entertainment]   \n",
       "1                           [Politics]   \n",
       "2    [Politics, Entertainment, Sports]   \n",
       "3                           [Politics]   \n",
       "4                           [Politics]   \n",
       "\n",
       "                                       tweets_joined  avg_word_count  \\\n",
       "0  rt USER EMOJI ready see newest ship’s name wil...       24.565000   \n",
       "1                                                           0.000000   \n",
       "2  rt USER thank rnc2020 LINK sep great takeaways...       20.770000   \n",
       "3  family fears may cheated 20000 donations raise...       24.530000   \n",
       "4  rt USER yeah ain’t got one happy song nigga al...       13.579545   \n",
       "\n",
       "   avg_character_count  avg_hashtag_count  avg_mention_count  avg_link_count  \\\n",
       "0           166.275000           0.760000              1.855        1.035000   \n",
       "1             0.000000           0.000000              0.000        0.000000   \n",
       "2           139.155000           0.185000              1.020        0.480000   \n",
       "3           166.195000           0.305000              0.500        0.865000   \n",
       "4            85.761364           0.068182              0.625        0.670455   \n",
       "\n",
       "   avg_emoji_count  avg_positive_word_count  avg_negative_word_count  \n",
       "0         0.265000                 0.935000                 0.240000  \n",
       "1         0.000000                 0.000000                 0.000000  \n",
       "2         0.175000                 0.680000                 0.485000  \n",
       "3         0.075000                 0.510000                 0.475000  \n",
       "4         0.602273                 0.318182                 0.545455  "
      ]
     },
     "execution_count": 14,
     "metadata": {},
     "output_type": "execute_result"
    }
   ],
   "source": [
    "X_transformed.head()"
   ]
  },
  {
   "cell_type": "code",
   "execution_count": 23,
   "metadata": {},
   "outputs": [],
   "source": [
    "tweets = X_transformed[\"tweets_joined\"].tolist()"
   ]
  },
  {
   "cell_type": "code",
   "execution_count": 24,
   "metadata": {},
   "outputs": [],
   "source": [
    "from transformers import BertTokenizer\n",
    "\n",
    "tokenizer = BertTokenizer.from_pretrained(\"bert-base-uncased\")"
   ]
  },
  {
   "cell_type": "code",
   "execution_count": 25,
   "metadata": {},
   "outputs": [
    {
     "name": "stdout",
     "output_type": "stream",
     "text": [
      "Original:  rt USER EMOJI ready see newest ship’s name will EMOJI thanks partners helping us unbox name… sep time receipts USER receipt scanners make easy mess stress check LINK LINK sep steady wants encourage invest financial future connect bank account USER access benefits income insights online medical visits cash grants 1000 started today visiting LINK sponsored LINK sep good one USER let’s see yall better come everybody show best handshaq ad LINK LINK sep lsunationalchamps sep stand student athletes wewanttoplay sep wish luck america i’m back sharkweek starts tonight 8p et USER catch taking ultimate plunge shaqattack tomorrow 9p et LINK sep joining tennis champion USER USERs leadingthroughchange join us allstar episode today 10 pt LINK LINK sep let’s today im nominating USER LINK USER USER USER mystartingfive employees amp customers ready vote november take pledge today amp register —gt LINK LINK sep first shaqvsgronk 9 million live viewers helped USER raise money USER USER 125 million meals donated USER big shoutout USER everyone performed watch EMOJI EMOJI USER LINK sep i’m partnering USER challenge mystartingfive USER USER USER USER USER pledge vote november together change want see world register today gt LINK LINK sep USER made lot fun commercials years one favorites one best video LINK sep LINK sep guys know much love music friends USER put together awesome summer playlist favorite summer tunes LINK LINK sep whoopi will make difference love u sep tear USER now USEREMOJI LINK LINK sep frontline workers kevin morton true hero see help us reach 1 million coffee shot donations first responder program LINK fortopartner LINK sep we’re back join USER USER USER 8pm et tnt LINK sep dedicating USER shot heroes boys girls club america you’ve got hero want give shout share video use shotforheroes LINK sep USER couldn’t hang sports trivia presented USER special thanks helping sanitize studio bioprotect last 90 days amp providing alcohol free hand sanitizer kills germs 6hrs sanitation LINK sep thank USER every tuned saturday night first shaq’s fun house vs gronk beach truly party purpose support two amazing organizations LINK sep love u miss u brother USER LINK sep finally slice big enough hand 🤚EMOJIintroducing new shaqaroni pizza loaded w extra pepperoni amp cheese fresh dough stretched thin w toppings edge USER will donate 1 every purchase papa john’s foundation building community LINK sep thanks official food delivery partner USER generous donation meals families need 9 million people tuned weekend amp thanks met goal doordash will donate 125 million meals partnership USER LINK sep went head head USER game horse presented USER game shaq style showed everyone still got epic dunk LINK sep welcome nrgfam big clix LINK sep dominated USER USER sports showdown shaq’s fun house vs gronk beach here’s proof LINK sep always good time team USER betawards ad LINK sep LINK sep going tonight USER tune tonight 8pm est watch USER competing epic challenges charity plus performances USER USER USER USER follow tik tok gtgt LINK sep tonight 8pm est USER watch beat USER epic challenges raising money social justice shaqs fun house vs gronk beach plus performances USER USER USER USER amp sorry gronk im winning EMOJILINK sep there’s new item USER snack aisles … that’s right … it’s USER join facebook live wednesday 7 pm et celebrate games live music USER giveaways bitesizedglory LINK LINK sep USER giving chance ultimate virtual pizza party amp USER go LINK sign papa rewards automatically entered purchase necessary ends 625 official rules LINK LINK sep autographed jerseys plus 10 winners will autographed ball registering go LINK learn enter chance win sep ready party purpose alongside USER win exclusive fan experience general admission sweepstakes 1 grand prize winner will win general admission prize pack including virtual meet greet gronk LINK sep together USER amp partners USER created virtual party purpose im gonna take gronk charity amp USER USER USER USER amp USER tune 627 LINK amp USER LINK sep rt USER USER part celebrity pannel match game 680 q “this lockdown murder dating life wo… sep two impressive women sports media joined us USER last couple weeks check amazing USER USER LINK LINK sep rt USER USER USER play round walmart waffle house taylor takes way seriously EMOJI week… sep USER USER USER yes sep rt USER USER disrespectful dunks LINK sep USER USER USER free throws didn’t stop finals ask momma left tickets sep looks good congrats ryan geauxtigers LINK sep go follow USER twitter sep gettin’ ready judge nacho average showdown supporting USER USER’s fb decided throw ring introducing USER’s nacho fries available limited time portion proceeds will donated restaurant employee relief fund LINK sep USER USER proud part team USER sep yo frank hilarious thanks LINK sep check joined tony mission tiger help bring sports back young scholars middle school philly frostedflakespartner USER LINK sep proud see USER donated 100000 masks USER week ringpartner LINK sep im working USER donate 1 million coffee shots healthcareheroes go LINK see help fortopartner LINK sep diesel shaq lollapalooza usa 2019 LINK via USER sep hero mom she’s hero every day mother’s day let know heroes sharemyhero USER jcppartner LINK sep im always trying bigger better things every day find accomplish whats important season finale shaqlife tonight 98c USER tntpartner LINK sep congrats friends si excited see greatest sports stories brought life screens USER LINK sep i’m proud young lady she’s working hard new life experiences helping people every day without hesitation thank USER LINK sep rt USER mothersday giving away 5 fastfoto scanners comment use fastfotosweepstakes enter 1 winner eac… sep will mothersday thanks fastfoto scanner it’ll mom favorite memories check fun USER epsonpartner LINK sep please join friends asia society socal sunday may 3d 5pm pst 8pm est virtual event standing racism time covid together LINK sep i’m proud young lady she’s working hard new life experiences helping people every day without hesitation thank samandamarie LINK sep family everything sometimes gotta use little tough love find mean shaqlife tonight 98c USER tntpartner LINK sep great time talking USER USER USER back tonight won’t wanna miss action LINK sep live nfldraft show friends USER go check live now LINK sep friends croatia call onealovich find shaqlife tonight 98c USER tntpartner LINK sep yo USER hilarious gotta join us soon weeks shaqcast LINK LINK sep rt USER whats favorite prince song tweet us using prince LINK sep today i’m helping launch hatsoff campaign – hang hat front door show thanks frontline food workers keeping us fed shelter home tag photo hatsoff let’s spread love LINK sep call videocall mullet business top xlg chilling bottom song think im jamming video 🤔USER jcppartner LINK sep throwback one greatest shows put iconic venue red rocks catch action shaqlife tomorrow 98c USER tntpartner LINK sep got time USER staying safe home find galaxy opal card limited myteam pack EMOJI LINK sep many work friends USER want help we’re hiring 20000 new employees – shift leaders drivers apply now LINK text jobs 47272 papajohnspartner LINK sep students learning home without internet basics critical thanks USER’s generosity amp support post includes postforpencils 20 pencils will provided underserved students USER info LINK sep family work everything don’t miss premiere new series shaqlife tonight 98c USER tntpartner LINK sep brought us title heisman will go 1 hes USER week geauxtigers thank u USER joining us show LINK sep heroes wear capes thank hardworking healthcare workers offering complimentary meal USER glendale ca amp las vegas nv april 612 look healthcare appreciation week LINK ordering info sep rt USER favorite moment past season storytime USER EMOJI catch season 2 special big fella an… sep i’m proud part forto well done team let’s find ways celebrate amp support healthcareheroes fortopartner LINK sep check bro USER storytime shaq special USER saturday april 4th 10p east coast 7p west coast setthedvr stayinside youwilllaugh ipromise LINK sep believe i’ve got show USER tune shaqlife april 9th USER LINK sep man ice trae USER weeks USER laughs us posting new shows every week help u thru theyre always free LINK sep rt USER quarantine day 19 LINK sep rt USER give themEMOJIwhile breathing 2 brother dj USER…a trendsetter amp trailblazer…the 1st kind…yours truly USER… sep rt USER big fella discusses best commercials USER latest storytime USER EMOJI LINK sep margaret anadu good friend running 2021 mayor nycUSER runmargaretrun sep it’s always great catching buddy now friends important USER encourage look ad LINK sep USER 5 times sep rt USER 21 years ago today USER dunked chris dudley EMOJI LINK sep big shoutout USER taking care employees difficult times 1 family proud USER resident hope everyone vegas around world staying home staying safe better times ahead LINK sep rt USER yoooo USER x USER USER x USER EMOJI LINK sep asked sing general jingle ridewiththegeneral ad LINK sep ad attn business owners EMOJI spend time crushing deadlines expensive ink cartridges business cartridgefree printing EMOJI USER LINK sep ad tune cooking shaq premiering tonight 8pm et USER plus new customers use code shaq20 20 EMOJI shophqshaq LINK LINK sep rt USER “now i’m starting diesel gas tank” EMOJI episode ‘storytime USER’ big fella brings his… sep ad come play ball celebrity friends plus charles barkley celebrity crunch classic atlanta go LINK vote team cheezit chance win rules LINK LINK sep friday time find friends goforto USER USER USER ad LINK sep ad throwback hit streets miami USER fun pop quiz y’all know first insurance provider guess first car ridewiththegeneral LINK sep USER fam got bigger congrats USER abg acquiring USER EMOJI LINK sep kicking USER premiere USER soon join cast crew red carpet screening celebrate film help raise awareness corruption foster care support movement fixfostercare today LINK sep ad let’s show charles barkley champion looks beat celebrity crunch classic vote team LINK chance join atlanta purchase necessary inforules LINK LINK sep USER new heartshaped pizza lens love doctor ordered try now snapchat LINK LINK sep every year USER gets bigger better year different shoutout everyone rocked stage came EMOJI LINK sep needs pink diamond shaq EMOJI brotha USER ‘s prime series pack dropped USER ad LINK sep thank guys kind messages weeks USER hearing game callers fall flat USER classic LINK see guys monday sep new month new kick february setting financial goals friends USER help save earn money it’s easy started today visiting LINK sponsored LINK sep socal second USER now open glendale ca across USER bigchickenshaq bigchickenglendale LINK sep rt USER whats favorite film USER starred EMOJI latest storytime shaq recounts movies with… sep ad even missed shaqsfunhouse miami weekend least eat USER new papadias now sry doesn’t come garlic sauce fountain ⛲️ LINK sep LINK sep USER tribute brother kobe bryant LINK ripmamba sep kobe much athlete family man common hug children embrace kids baby girl gigi born day youngest daughter me’arah LINK sep there’s words express pain im going tragedy loosing neice gigi amp brother USER love u u will missed condolences goes bryant family families passengers board im sick right now LINK sep USER USER USER USER USER USER USER USER USER USER USER USER USER deal see miami sep USER USER USER USER USER USER USER USER USER USER USER USER USER got competition best big game weekend party bro sep USER USER USER USER USER USER USER game bro bringing allstars fun house USER USER USER USER USER plus USER swisher stage andddd full size carnival oh ya big special guest USER told finally make year EMOJI sep hear will miami year USER u coming fun house learn really throw party sep ad car check keys check insurance call general covered USER LINK sep EMOJIpsaEMOJI shaq’s fun house tix almost sold join big game weekend extravaganza featuring USER USER USER USER USER swisher sweets stage USER amp next friday miami EMOJI tix LINK free food amp open bar LINK sep rt USER latest storytime shaq USER big fella talk USER first met future teammate penny hardaway wh… sep USER chief fun officer need make happen know got boo boo i’m putting cruise start packing don’t worry cruise wear borrow mine teigenoncarnival USER sep rt USER USER going perform USER artist project stage shaq’s fun houseEMOJI LINK sep rt USER think USER mike ryan almost announced cryptic texts fath… sep already know it’s mamba EMOJI LINK sep ad check dallas baller kylon owens got personal big amp tall stylist USER day kylon’s graduating high school diploma associate’s degree time played varsity ball freshman year allatjcp LINK sep official USER starting lineup one best teams assembled USER USER USER USER USER USER USER swisher stage big game weekend dream team EMOJI see miami tickets remain LINK LINK sep rt USER you’re dj booth USER still taller EMOJI thnx big man EMOJI USER LINK sep rt USER shaqsfunhouse going epic see tickets amp info LINK LINK sep decided night USER need sing africa main stage USER boi boi LINK sep rt USER week’s storytime shaq USER USER relive memories collecting basketball cards one particular p… sep watch USER undercover boss tonight wed jan 8th 87c cbs see buddies USER amp USER stand heat kitchen undercoverboss sep youre looking krispy kremes new year’s resolutions coach america im help stay track resolutions little guys – new USER minis 90 calories cheatsweet keep resolutions track” ad LINK sep rip mr david stern best commissioner LINK sep thank mr li loyal fan especially awesome drawing LINK LINK sep now make ad goforto USER LINK sep rt USER shaqaclaus gets spirit giving episode ‘storytime USER’ EMOJI LINK sep want give special shoutout everyone made year’s shaqaclaus big success thank support USER USER USER USER USER LINK sep tickets shaq’s fun house miami sale now EMOJI join alongside USER USER USER USER USER special guest swisher sweets stage USER biggest party miami LINK LINK sep rt USER ending 2019 another huge win every team nominated insane honored win USER team yea… sep shaqs fun house big game weekend miami EMOJI feat USER USER USER USER USER USER USER tickets sale thursday 11am est sign now LINK LINK sep USER dance LINK sep thanks USER we’re delivering smiles kids across country week – let know you’re giving back season deliveringsmiles LINK sep rt USER episode storytime shaq big fella talks USER taking wing amp plays fun game start bench… sep sponsored looking make little cash holiday season earn money USERs income boosters visit LINK now start spreading holiday cheer steady LINK sep sponsored go undercover peek USER new crust EMOJI LINK sep sponsored new smashup USER perfect birthday surprise go check americangreetingspartner smashups LINK LINK sep rt USER USER sat big fella another episode storytime USER EMOJI LINK sep rt USER shaq talks rap competition dame top emcees amp segment storytime shaq EMOJI LINK sep rt USER latest episode storytime shaq USER recaps USER’s summertime adventures dj diesel EMOJI LINK sep hey guys trying make money side hustle USER’s got back sign complete offers steady will put money pocket don’t believe see checking LINK sponsored LINK sep getapair – join encourage pair friends family beaman exam menshealthawareness month november LINK sep come young filmmakers let’s see stuff submit movies LINK awesome cause USER USER awesome prizes hollywood judges kidsfilmitfestival sep USER thanks condolences love older brothers 3 love y’all love candice sep icymi last night USER special guests best two lucky audience members gave USER cfo fun things choosefun ad LINK sep say rookie year shanemcghie one next great actors generation props emotional moving performance boy struggling ptsd abuse foster care system USER mustwatch fixfostercare LINK sep hey guys trying make money side hustle USER’s got back sign complete offers steady will put money pocket don’t believe see checking LINK sponsored LINK sep fostercare crisis america puts 440000 kids system one time 61 unemployed amp 24 experience homelessness aging nation’s youth deserve better➡️follow film USER amp join movement fixfostercare LINK sep hey USER coming shaqs bass stars USER tomorrow night heard almost sold 🤷‍♂️ LINK LINK sep way kick week las vegas much fun USER USER USER great night jbl remix jblfest ad LINK sep rt USER look baby thanks USER LINK sep USER sound dumb profile pic sep USER u now homie sep USER iman killed sep USER never ill sep USER gonna kill brothe opening gonna tear house together team bassallstars sep look baby thanks USER LINK sep many foster kids scared neglected lonely amp abused im proud executive amp presenting producer USER inspiring new film will make worldwide premiere USER USER later week LINK sep run dmc jammin mug LINK sep great news i’m teaming friends USER give chance join game oneonone EMOJI grab selfie eat USER pizza EMOJI visit set USER EMOJI buy entries shaqsweeps today USER LINK ad LINK sep 800 students oakland elementary mcdonough ga received backpacks USER food USER part national 50000 backpack giveaway verabradley matching donations blessingsinaEMOJI 50000 visit LINK LINK sep las vegas special one tonight xs debut going insanity i’m 130 see EMOJI LINK sep EMOJIcongratulations year’s USER youth year nominees well year’s youth year winner sabrina join commending leaders tomorrow raise slice pizza honor USER EMOJI sponsored LINK sep rt USER win meet amp greet dj diesel aka USER pair tickets see saturday 1012 EMOJI enter LINK sep handsome fella EMOJI run rookie card USER now ➡️ LINK LINK sep many foster kids scared neglected lonely amp abused im proud executive amp presenting producer USER inspiring new film will make worldwide premiere USER USER later week LINK sep USER made cfo everyone hitting cruise deals want exclusive offer email shaqUSERcom sponsored choosefun carnivalcruiseline oh yeah need email 102419 LINK sep rt USER 15x allstar 4x nba champion 3x finals mvp 2x scoring champion 1 large set turntables LINK sep USER now twitter LINK sep USER good lsu sep rt USER perfect ending owl2019 anime shock season 2 champions LINK sep bam future coffee want try click link use code shaqenergy internationalcoffeeday sponsored LINK USER LINK sep fosterkids someone else’s kids – they’re kids much help take action amp join fight foster kids LINK url oped embed link LINK sep thank USER LINK sep rt USER today USER athletic learn one biggest names EMOJI became successful businessman is… sep see little buddy USER guess anyone correctly season premiere themaskedsinger tonight 8p7c sep good talking pizza hanging USER USER friends watch full story LINK LINK sep looking improve finances USER will pay income boosters completing first delivery gig platform saving bank fees insurance rates friends steady want pay check LINK sponsored LINK sep USER join moshpit USER djdiesel imf2019 headbangers dubstep bassmusic thanks imagine LINK sep thanks USER love USER iloveatlanta emperorofdubstep imf2019 plur headbangers djdiesel imagine music festival LINK sep time running submit version USER jingle chance see bobby bones amp raging idiots live vegas check remix submit LINK september 22 2019 sponsored LINK sep want give special shoutout blind eye artist justinwadlington blessing amazing limited edition pieceEMOJI USER camera LINK sep main man aveoart thing LINK sep apotheosis legends byjustinwadlington nipsey hustle LINK sep im ready USER friday atlanta ready go hard pit ticketsgtgt LINK LINK sep atlanta going seeing rail next weekend USER sep rt USER call duty esports league officially coming chicago USER incredibly proud represent windy city’s o… sep look onboard USER ship chief fun officer known fun check timetotime EMOJI choosefun carnival sponsored LINK sep socal excited announce i’m bringing USER USER glendale end 2019 bigchicken LINK sep rt USER hot sauce radio w one amp USER starts 10min EMOJI don’t want miss one tune EMOJI LINK sep ready slice happy it’s better day USER betterday sponsored LINK sep montreal showed shaqs bass stars last weekend thank canada 🤲 USER USER USER USER LINK sep friends USER USER shaqtoschool activities summer helping kids benefitting USER see LINK shaqtoschool zapposforgood zappos schoolisforwinners LINK sep electric zoo wild EMOJI USER LINK\n"
     ]
    }
   ],
   "source": [
    "print(\"Original: \", tweets[0])"
   ]
  },
  {
   "cell_type": "code",
   "execution_count": 26,
   "metadata": {},
   "outputs": [
    {
     "name": "stdout",
     "output_type": "stream",
     "text": [
      "Tokenized:  ['rt', 'user', 'em', '##oj', '##i', 'ready', 'see', 'newest', 'ship', '’', 's', 'name', 'will', 'em', '##oj', '##i', 'thanks', 'partners', 'helping', 'us', 'un', '##box', 'name', '…', 'sep', 'time', 'receipts', 'user', 'receipt', 'scanner', '##s', 'make', 'easy', 'mess', 'stress', 'check', 'link', 'link', 'sep', 'steady', 'wants', 'encourage', 'invest', 'financial', 'future', 'connect', 'bank', 'account', 'user', 'access', 'benefits', 'income', 'insights', 'online', 'medical', 'visits', 'cash', 'grants', '1000', 'started', 'today', 'visiting', 'link', 'sponsored', 'link', 'sep', 'good', 'one', 'user', 'let', '’', 's', 'see', 'ya', '##ll', 'better', 'come', 'everybody', 'show', 'best', 'hands', '##ha', '##q', 'ad', 'link', 'link', 'sep', 'lsu', '##national', '##champ', '##s', 'sep', 'stand', 'student', 'athletes', 'we', '##wan', '##tto', '##play', 'sep', 'wish', 'luck', 'america', 'i', '’', 'm', 'back', 'shark', '##week', 'starts', 'tonight', '8', '##p', 'et', 'user', 'catch', 'taking', 'ultimate', 'plunge', 'sha', '##qa', '##tta', '##ck', 'tomorrow', '9', '##p', 'et', 'link', 'sep', 'joining', 'tennis', 'champion', 'user', 'users', 'leading', '##th', '##rou', '##gh', '##chang', '##e', 'join', 'us', 'all', '##star', 'episode', 'today', '10', 'pt', 'link', 'link', 'sep', 'let', '’', 's', 'today', 'im', 'no', '##minating', 'user', 'link', 'user', 'user', 'user', 'my', '##star', '##ting', '##fi', '##ve', 'employees', 'amp', 'customers', 'ready', 'vote', 'november', 'take', 'pledge', 'today', 'amp', 'register', '—', 'gt', 'link', 'link', 'sep', 'first', 'sha', '##q', '##vs', '##gr', '##on', '##k', '9', 'million', 'live', 'viewers', 'helped', 'user', 'raise', 'money', 'user', 'user', '125', 'million', 'meals', 'donated', 'user', 'big', 'shout', '##out', 'user', 'everyone', 'performed', 'watch', 'em', '##oj', '##i', 'em', '##oj', '##i', 'user', 'link', 'sep', 'i', '’', 'm', 'partnering', 'user', 'challenge', 'my', '##star', '##ting', '##fi', '##ve', 'user', 'user', 'user', 'user', 'user', 'pledge', 'vote', 'november', 'together', 'change', 'want', 'see', 'world', 'register', 'today', 'gt', 'link', 'link', 'sep', 'user', 'made', 'lot', 'fun', 'commercials', 'years', 'one', 'favorites', 'one', 'best', 'video', 'link', 'sep', 'link', 'sep', 'guys', 'know', 'much', 'love', 'music', 'friends', 'user', 'put', 'together', 'awesome', 'summer', 'play', '##list', 'favorite', 'summer', 'tunes', 'link', 'link', 'sep', 'who', '##op', '##i', 'will', 'make', 'difference', 'love', 'u', 'sep', 'tear', 'user', 'now', 'user', '##em', '##oj', '##i', 'link', 'link', 'sep', 'front', '##line', 'workers', 'kevin', 'morton', 'true', 'hero', 'see', 'help', 'us', 'reach', '1', 'million', 'coffee', 'shot', 'donations', 'first', 'respond', '##er', 'program', 'link', 'fort', '##opa', '##rt', '##ner', 'link', 'sep', 'we', '’', 're', 'back', 'join', 'user', 'user', 'user', '8', '##pm', 'et', 'tnt', 'link', 'sep', 'de', '##dic', '##ating', 'user', 'shot', 'heroes', 'boys', 'girls', 'club', 'america', 'you', '’', 've', 'got', 'hero', 'want', 'give', 'shout', 'share', 'video', 'use', 'shot', '##for', '##her', '##oes', 'link', 'sep', 'user', 'couldn', '’', 't', 'hang', 'sports', 'tri', '##via', 'presented', 'user', 'special', 'thanks', 'helping', 'san', '##iti', '##ze', 'studio', 'bio', '##pro', '##tec', '##t', 'last', '90', 'days', 'amp', 'providing', 'alcohol', 'free', 'hand', 'san', '##iti', '##zer', 'kills', 'ge', '##rm', '##s', '6', '##hr', '##s', 'sanitation', 'link', 'sep', 'thank', 'user', 'every', 'tuned', 'saturday', 'night', 'first', 'sha', '##q', '’', 's', 'fun', 'house', 'vs', 'gr', '##on', '##k', 'beach', 'truly', 'party', 'purpose', 'support', 'two', 'amazing', 'organizations', 'link', 'sep', 'love', 'u', 'miss', 'u', 'brother', 'user', 'link', 'sep', 'finally', 'slice', 'big', 'enough', 'hand', '[UNK]', 'new', 'sha', '##qa', '##ron', '##i', 'pizza', 'loaded', 'w', 'extra', 'pepper', '##oni', 'amp', 'cheese', 'fresh', 'dough', 'stretched', 'thin', 'w', 'topping', '##s', 'edge', 'user', 'will', 'donate', '1', 'every', 'purchase', 'papa', 'john', '’', 's', 'foundation', 'building', 'community', 'link', 'sep', 'thanks', 'official', 'food', 'delivery', 'partner', 'user', 'generous', 'donation', 'meals', 'families', 'need', '9', 'million', 'people', 'tuned', 'weekend', 'amp', 'thanks', 'met', 'goal', 'door', '##das', '##h', 'will', 'donate', '125', 'million', 'meals', 'partnership', 'user', 'link', 'sep', 'went', 'head', 'head', 'user', 'game', 'horse', 'presented', 'user', 'game', 'sha', '##q', 'style', 'showed', 'everyone', 'still', 'got', 'epic', 'dun', '##k', 'link', 'sep', 'welcome', 'nr', '##gf', '##am', 'big', 'cl', '##ix', 'link', 'sep', 'dominated', 'user', 'user', 'sports', 'showdown', 'sha', '##q', '’', 's', 'fun', 'house', 'vs', 'gr', '##on', '##k', 'beach', 'here', '’', 's', 'proof', 'link', 'sep', 'always', 'good', 'time', 'team', 'user', 'beta', '##ward', '##s', 'ad', 'link', 'sep', 'link', 'sep', 'going', 'tonight', 'user', 'tune', 'tonight', '8', '##pm', 'est', 'watch', 'user', 'competing', 'epic', 'challenges', 'charity', 'plus', 'performances', 'user', 'user', 'user', 'user', 'follow', 'ti', '##k', 'to', '##k', 'gt', '##gt', 'link', 'sep', 'tonight', '8', '##pm', 'est', 'user', 'watch', 'beat', 'user', 'epic', 'challenges', 'raising', 'money', 'social', 'justice', 'sha', '##q', '##s', 'fun', 'house', 'vs', 'gr', '##on', '##k', 'beach', 'plus', 'performances', 'user', 'user', 'user', 'user', 'amp', 'sorry', 'gr', '##on', '##k', 'im', 'winning', 'em', '##oj', '##ili', '##nk', 'sep', 'there', '’', 's', 'new', 'item', 'user', 'snack', 'aisles', '…', 'that', '’', 's', 'right', '…', 'it', '’', 's', 'user', 'join', 'facebook', 'live', 'wednesday', '7', 'pm', 'et', 'celebrate', 'games', 'live', 'music', 'user', 'give', '##away', '##s', 'bites', '##ized', '##gl', '##ory', 'link', 'link', 'sep', 'user', 'giving', 'chance', 'ultimate', 'virtual', 'pizza', 'party', 'amp', 'user', 'go', 'link', 'sign', 'papa', 'rewards', 'automatically', 'entered', 'purchase', 'necessary', 'ends', '625', 'official', 'rules', 'link', 'link', 'sep', 'auto', '##graph', '##ed', 'jerseys', 'plus', '10', 'winners', 'will', 'auto', '##graph', '##ed', 'ball', 'registering', 'go', 'link', 'learn', 'enter', 'chance', 'win', 'sep', 'ready', 'party', 'purpose', 'alongside', 'user', 'win', 'exclusive', 'fan', 'experience', 'general', 'admission', 'sweeps', '##take', '##s', '1', 'grand', 'prize', 'winner', 'will', 'win', 'general', 'admission', 'prize', 'pack', 'including', 'virtual', 'meet', 'greet', 'gr', '##on', '##k', 'link', 'sep', 'together', 'user', 'amp', 'partners', 'user', 'created', 'virtual', 'party', 'purpose', 'im', 'gonna', 'take', 'gr', '##on', '##k', 'charity', 'amp', 'user', 'user', 'user', 'user', 'amp', 'user', 'tune', '62', '##7', 'link', 'amp', 'user', 'link', 'sep', 'rt', 'user', 'user', 'part', 'celebrity', 'pan', '##nel', 'match', 'game', '680', 'q', '“', 'this', 'lock', '##down', 'murder', 'dating', 'life', 'wo', '…', 'sep', 'two', 'impressive', 'women', 'sports', 'media', 'joined', 'us', 'user', 'last', 'couple', 'weeks', 'check', 'amazing', 'user', 'user', 'link', 'link', 'sep', 'rt', 'user', 'user', 'user', 'play', 'round', 'wal', '##mart', 'wa', '##ffle', 'house', 'taylor', 'takes', 'way', 'seriously', 'em', '##oj', '##i', 'week', '…', 'sep', 'user', 'user', 'user', 'yes', 'sep', 'rt', 'user', 'user', 'di', '##sr', '##es', '##pe', '##ct', '##ful', 'dun', '##ks', 'link', 'sep', 'user', 'user', 'user', 'free', 'throws', 'didn', '’', 't', 'stop', 'finals', 'ask', 'momma', 'left', 'tickets', 'sep', 'looks', 'good', 'cong', '##rat', '##s', 'ryan', 'ge', '##aux', '##ti', '##gers', 'link', 'sep', 'go', 'follow', 'user', 'twitter', 'sep', 'get', '##tin', '’', 'ready', 'judge', 'na', '##cho', 'average', 'showdown', 'supporting', 'user', 'user', '’', 's', 'f', '##b', 'decided', 'throw', 'ring', 'introducing', 'user', '’', 's', 'na', '##cho', 'fries', 'available', 'limited', 'time', 'portion', 'proceeds', 'will', 'donated', 'restaurant', 'employee', 'relief', 'fund', 'link', 'sep', 'user', 'user', 'proud', 'part', 'team', 'user', 'sep', 'yo', 'frank', 'hilarious', 'thanks', 'link', 'sep', 'check', 'joined', 'tony', 'mission', 'tiger', 'help', 'bring', 'sports', 'back', 'young', 'scholars', 'middle', 'school', 'phil', '##ly', 'frost', '##ed', '##fl', '##akes', '##par', '##tner', 'user', 'link', 'sep', 'proud', 'see', 'user', 'donated', '1000', '##00', 'masks', 'user', 'week', 'ring', '##par', '##tner', 'link', 'sep', 'im', 'working', 'user', 'donate', '1', 'million', 'coffee', 'shots', 'healthcare', '##her', '##oes', 'go', 'link', 'see', 'help', 'fort', '##opa', '##rt', '##ner', 'link', 'sep', 'diesel', 'sha', '##q', 'lo', '##lla', '##pal', '##oo', '##za', 'usa', '2019', 'link', 'via', 'user', 'sep', 'hero', 'mom', 'she', '’', 's', 'hero', 'every', 'day', 'mother', '’', 's', 'day', 'let', 'know', 'heroes', 'share', '##my', '##her', '##o', 'user', 'jc', '##ppa', '##rt', '##ner', 'link', 'sep', 'im', 'always', 'trying', 'bigger', 'better', 'things', 'every', 'day', 'find', 'accomplish', 'what', '##s', 'important', 'season', 'finale', 'sha', '##q', '##life', 'tonight', '98', '##c', 'user', 'tnt', '##par', '##tner', 'link', 'sep', 'cong', '##rat', '##s', 'friends', 'si', 'excited', 'see', 'greatest', 'sports', 'stories', 'brought', 'life', 'screens', 'user', 'link', 'sep', 'i', '’', 'm', 'proud', 'young', 'lady', 'she', '’', 's', 'working', 'hard', 'new', 'life', 'experiences', 'helping', 'people', 'every', 'day', 'without', 'hesitation', 'thank', 'user', 'link', 'sep', 'rt', 'user', 'mothers', '##day', 'giving', 'away', '5', 'fast', '##fo', '##to', 'scanner', '##s', 'comment', 'use', 'fast', '##fo', '##tos', '##wee', '##ps', '##take', '##s', 'enter', '1', 'winner', 'ea', '##c', '…', 'sep', 'will', 'mothers', '##day', 'thanks', 'fast', '##fo', '##to', 'scanner', 'it', '’', 'll', 'mom', 'favorite', 'memories', 'check', 'fun', 'user', 'eps', '##on', '##par', '##tner', 'link', 'sep', 'please', 'join', 'friends', 'asia', 'society', 'soc', '##al', 'sunday', 'may', '3d', '5', '##pm', 'ps', '##t', '8', '##pm', 'est', 'virtual', 'event', 'standing', 'racism', 'time', 'co', '##vid', 'together', 'link', 'sep', 'i', '’', 'm', 'proud', 'young', 'lady', 'she', '’', 's', 'working', 'hard', 'new', 'life', 'experiences', 'helping', 'people', 'every', 'day', 'without', 'hesitation', 'thank', 'sam', '##anda', '##mar', '##ie', 'link', 'sep', 'family', 'everything', 'sometimes', 'gotta', 'use', 'little', 'tough', 'love', 'find', 'mean', 'sha', '##q', '##life', 'tonight', '98', '##c', 'user', 'tnt', '##par', '##tner', 'link', 'sep', 'great', 'time', 'talking', 'user', 'user', 'user', 'back', 'tonight', 'won', '’', 't', 'wanna', 'miss', 'action', 'link', 'sep', 'live', 'nfl', '##dra', '##ft', 'show', 'friends', 'user', 'go', 'check', 'live', 'now', 'link', 'sep', 'friends', 'croatia', 'call', 'one', '##alo', '##vich', 'find', 'sha', '##q', '##life', 'tonight', '98', '##c', 'user', 'tnt', '##par', '##tner', 'link', 'sep', 'yo', 'user', 'hilarious', 'gotta', 'join', 'us', 'soon', 'weeks', 'sha', '##q', '##cast', 'link', 'link', 'sep', 'rt', 'user', 'what', '##s', 'favorite', 'prince', 'song', 't', '##wee', '##t', 'us', 'using', 'prince', 'link', 'sep', 'today', 'i', '’', 'm', 'helping', 'launch', 'hats', '##off', 'campaign', '–', 'hang', 'hat', 'front', 'door', 'show', 'thanks', 'front', '##line', 'food', 'workers', 'keeping', 'us', 'fed', 'shelter', 'home', 'tag', 'photo', 'hats', '##off', 'let', '’', 's', 'spread', 'love', 'link', 'sep', 'call', 'video', '##cal', '##l', 'mu', '##llet', 'business', 'top', 'xl', '##g', 'chilling', 'bottom', 'song', 'think', 'im', 'jam', '##ming', 'video', '[UNK]', 'jc', '##ppa', '##rt', '##ner', 'link', 'sep', 'throw', '##back', 'one', 'greatest', 'shows', 'put', 'iconic', 'venue', 'red', 'rocks', 'catch', 'action', 'sha', '##q', '##life', 'tomorrow', '98', '##c', 'user', 'tnt', '##par', '##tner', 'link', 'sep', 'got', 'time', 'user', 'staying', 'safe', 'home', 'find', 'galaxy', 'op', '##al', 'card', 'limited', 'my', '##tea', '##m', 'pack', 'em', '##oj', '##i', 'link', 'sep', 'many', 'work', 'friends', 'user', 'want', 'help', 'we', '’', 're', 'hiring', '2000', '##0', 'new', 'employees', '–', 'shift', 'leaders', 'drivers', 'apply', 'now', 'link', 'text', 'jobs', '47', '##27', '##2', 'papa', '##jo', '##hn', '##spar', '##tner', 'link', 'sep', 'students', 'learning', 'home', 'without', 'internet', 'basics', 'critical', 'thanks', 'user', '’', 's', 'generosity', 'amp', 'support', 'post', 'includes', 'post', '##for', '##pen', '##ci', '##ls', '20', 'pencil', '##s', 'will', 'provided', 'under', '##ser', '##ved', 'students', 'user', 'info', 'link', 'sep', 'family', 'work', 'everything', 'don', '’', 't', 'miss', 'premiere', 'new', 'series', 'sha', '##q', '##life', 'tonight', '98', '##c', 'user', 'tnt', '##par', '##tner', 'link', 'sep', 'brought', 'us', 'title', 'he', '##isman', 'will', 'go', '1', 'he', '##s', 'user', 'week', 'ge', '##aux', '##ti', '##gers', 'thank', 'u', 'user', 'joining', 'us', 'show', 'link', 'sep', 'heroes', 'wear', 'cape', '##s', 'thank', 'hard', '##working', 'healthcare', 'workers', 'offering', 'compliment', '##ary', 'meal', 'user', 'glendale', 'ca', 'amp', 'las', 'vegas', 'n', '##v', 'april', '61', '##2', 'look', 'healthcare', 'appreciation', 'week', 'link', 'ordering', 'info', 'sep', 'rt', 'user', 'favorite', 'moment', 'past', 'season', 'story', '##time', 'user', 'em', '##oj', '##i', 'catch', 'season', '2', 'special', 'big', 'fell', '##a', 'an', '…', 'sep', 'i', '’', 'm', 'proud', 'part', 'fort', '##o', 'well', 'done', 'team', 'let', '’', 's', 'find', 'ways', 'celebrate', 'amp', 'support', 'healthcare', '##her', '##oes', 'fort', '##opa', '##rt', '##ner', 'link', 'sep', 'check', 'bro', 'user', 'story', '##time', 'sha', '##q', 'special', 'user', 'saturday', 'april', '4th', '10', '##p', 'east', 'coast', '7', '##p', 'west', 'coast', 'set', '##thed', '##vr', 'stay', '##ins', '##ide', 'you', '##wil', '##lla', '##ugh', 'ip', '##rom', '##ise', 'link', 'sep', 'believe', 'i', '’', 've', 'got', 'show', 'user', 'tune', 'sha', '##q', '##life', 'april', '9th', 'user', 'link', 'sep', 'man', 'ice', 'tr', '##ae', 'user', 'weeks', 'user', 'laughs', 'us', 'posting', 'new', 'shows', 'every', 'week', 'help', 'u', 'thru', 'they', '##re', 'always', 'free', 'link', 'sep', 'rt', 'user', 'qu', '##aran', '##tine', 'day', '19', 'link', 'sep', 'rt', 'user', 'give', 'theme', '##mo', '##ji', '##while', 'breathing', '2', 'brother', 'dj', 'user', '…', 'a', 'trends', '##ette', '##r', 'amp', 'trail', '##bla', '##zer', '…', 'the', '1st', 'kind', '…', 'yours', 'truly', 'user', '…', 'sep', 'rt', 'user', 'big', 'fell', '##a', 'discusses', 'best', 'commercials', 'user', 'latest', 'story', '##time', 'user', 'em', '##oj', '##i', 'link', 'sep', 'margaret', 'ana', '##du', 'good', 'friend', 'running', '2021', 'mayor', 'nyc', '##user', 'run', '##mar', '##gar', '##et', '##run', 'sep', 'it', '’', 's', 'always', 'great', 'catching', 'buddy', 'now', 'friends', 'important', 'user', 'encourage', 'look', 'ad', 'link', 'sep', 'user', '5', 'times', 'sep', 'rt', 'user', '21', 'years', 'ago', 'today', 'user', 'dun', '##ked', 'chris', 'dudley', 'em', '##oj', '##i', 'link', 'sep', 'big', 'shout', '##out', 'user', 'taking', 'care', 'employees', 'difficult', 'times', '1', 'family', 'proud', 'user', 'resident', 'hope', 'everyone', 'vegas', 'around', 'world', 'staying', 'home', 'staying', 'safe', 'better', 'times', 'ahead', 'link', 'sep', 'rt', 'user', 'yoo', '##oo', 'user', 'x', 'user', 'user', 'x', 'user', 'em', '##oj', '##i', 'link', 'sep', 'asked', 'sing', 'general', 'jingle', 'ride', '##with', '##the', '##gen', '##eral', 'ad', 'link', 'sep', 'ad', 'at', '##t', '##n', 'business', 'owners', 'em', '##oj', '##i', 'spend', 'time', 'crushing', 'deadline', '##s', 'expensive', 'ink', 'cartridges', 'business', 'cartridge', '##free', 'printing', 'em', '##oj', '##i', 'user', 'link', 'sep', 'ad', 'tune', 'cooking', 'sha', '##q', 'premier', '##ing', 'tonight', '8', '##pm', 'et', 'user', 'plus', 'new', 'customers', 'use', 'code', 'sha', '##q', '##20', '20', 'em', '##oj', '##i', 'shop', '##h', '##q', '##sha', '##q', 'link', 'link', 'sep', 'rt', 'user', '“', 'now', 'i', '’', 'm', 'starting', 'diesel', 'gas', 'tank', '”', 'em', '##oj', '##i', 'episode', '‘', 'story', '##time', 'user', '’', 'big', 'fell', '##a', 'brings', 'his', '…', 'sep', 'ad', 'come', 'play', 'ball', 'celebrity', 'friends', 'plus', 'charles', 'bark', '##ley', 'celebrity', 'crunch', 'classic', 'atlanta', 'go', 'link', 'vote', 'team', 'che', '##ez', '##it', 'chance', 'win', 'rules', 'link', 'link', 'sep', 'friday', 'time', 'find', 'friends', 'go', '##fort', '##o', 'user', 'user', 'user', 'ad', 'link', 'sep', 'ad', 'throw', '##back', 'hit', 'streets', 'miami', 'user', 'fun', 'pop', 'quiz', 'y', '’', 'all', 'know', 'first', 'insurance', 'provider', 'guess', 'first', 'car', 'ride', '##with', '##the', '##gen', '##eral', 'link', 'sep', 'user', 'fa', '##m', 'got', 'bigger', 'cong', '##rat', '##s', 'user', 'ab', '##g', 'acquiring', 'user', 'em', '##oj', '##i', 'link', 'sep', 'kicking', 'user', 'premiere', 'user', 'soon', 'join', 'cast', 'crew', 'red', 'carpet', 'screening', 'celebrate', 'film', 'help', 'raise', 'awareness', 'corruption', 'foster', 'care', 'support', 'movement', 'fix', '##fo', '##ster', '##care', 'today', 'link', 'sep', 'ad', 'let', '’', 's', 'show', 'charles', 'bark', '##ley', 'champion', 'looks', 'beat', 'celebrity', 'crunch', 'classic', 'vote', 'team', 'link', 'chance', 'join', 'atlanta', 'purchase', 'necessary', 'info', '##ru', '##les', 'link', 'link', 'sep', 'user', 'new', 'hearts', '##ha', '##ped', 'pizza', 'lens', 'love', 'doctor', 'ordered', 'try', 'now', 'snap', '##cha', '##t', 'link', 'link', 'sep', 'every', 'year', 'user', 'gets', 'bigger', 'better', 'year', 'different', 'shout', '##out', 'everyone', 'rocked', 'stage', 'came', 'em', '##oj', '##i', 'link', 'sep', 'needs', 'pink', 'diamond', 'sha', '##q', 'em', '##oj', '##i', 'bro', '##tha', 'user', '‘', 's', 'prime', 'series', 'pack', 'dropped', 'user', 'ad', 'link', 'sep', 'thank', 'guys', 'kind', 'messages', 'weeks', 'user', 'hearing', 'game', 'caller', '##s', 'fall', 'flat', 'user', 'classic', 'link', 'see', 'guys', 'monday', 'sep', 'new', 'month', 'new', 'kick', 'february', 'setting', 'financial', 'goals', 'friends', 'user', 'help', 'save', 'earn', 'money', 'it', '’', 's', 'easy', 'started', 'today', 'visiting', 'link', 'sponsored', 'link', 'sep', 'soc', '##al', 'second', 'user', 'now', 'open', 'glendale', 'ca', 'across', 'user', 'big', '##chi', '##cken', '##sha', '##q', 'big', '##chi', '##cken', '##gle', '##nda', '##le', 'link', 'sep', 'rt', 'user', 'what', '##s', 'favorite', 'film', 'user', 'starred', 'em', '##oj', '##i', 'latest', 'story', '##time', 'sha', '##q', 'recounts', 'movies', 'with', '…', 'sep', 'ad', 'even', 'missed', 'sha', '##q', '##sf', '##un', '##house', 'miami', 'weekend', 'least', 'eat', 'user', 'new', 'papa', '##dia', '##s', 'now', 'sr', '##y', 'doesn', '’', 't', 'come', 'garlic', 'sauce', 'fountain', '[UNK]', 'link', 'sep', 'link', 'sep', 'user', 'tribute', 'brother', 'kobe', 'bryant', 'link', 'rip', '##ma', '##mba', 'sep', 'kobe', 'much', 'athlete', 'family', 'man', 'common', 'hug', 'children', 'embrace', 'kids', 'baby', 'girl', 'gig', '##i', 'born', 'day', 'youngest', 'daughter', 'me', '’', 'ara', '##h', 'link', 'sep', 'there', '’', 's', 'words', 'express', 'pain', 'im', 'going', 'tragedy', 'lo', '##osing', 'ne', '##ice', 'gig', '##i', 'amp', 'brother', 'user', 'love', 'u', 'u', 'will', 'missed', 'condo', '##lence', '##s', 'goes', 'bryant', 'family', 'families', 'passengers', 'board', 'im', 'sick', 'right', 'now', 'link', 'sep', 'user', 'user', 'user', 'user', 'user', 'user', 'user', 'user', 'user', 'user', 'user', 'user', 'user', 'deal', 'see', 'miami', 'sep', 'user', 'user', 'user', 'user', 'user', 'user', 'user', 'user', 'user', 'user', 'user', 'user', 'user', 'got', 'competition', 'best', 'big', 'game', 'weekend', 'party', 'bro', 'sep', 'user', 'user', 'user', 'user', 'user', 'user', 'user', 'game', 'bro', 'bringing', 'all', '##star', '##s', 'fun', 'house', 'user', 'user', 'user', 'user', 'user', 'plus', 'user', 'sw', '##ish', '##er', 'stage', 'and', '##dd', '##d', 'full', 'size', 'carnival', 'oh', 'ya', 'big', 'special', 'guest', 'user', 'told', 'finally', 'make', 'year', 'em', '##oj', '##i', 'sep', 'hear', 'will', 'miami', 'year', 'user', 'u', 'coming', 'fun', 'house', 'learn', 'really', 'throw', 'party', 'sep', 'ad', 'car', 'check', 'keys', 'check', 'insurance', 'call', 'general', 'covered', 'user', 'link', 'sep', 'em', '##oj', '##ip', '##sa', '##em', '##oj', '##i', 'sha', '##q', '’', 's', 'fun', 'house', 'ti', '##x', 'almost', 'sold', 'join', 'big', 'game', 'weekend', 'extra', '##va', '##gan', '##za', 'featuring', 'user', 'user', 'user', 'user', 'user', 'sw', '##ish', '##er', 'sweets', 'stage', 'user', 'amp', 'next', 'friday', 'miami', 'em', '##oj', '##i', 'ti', '##x', 'link', 'free', 'food', 'amp', 'open', 'bar', 'link', 'sep', 'rt', 'user', 'latest', 'story', '##time', 'sha', '##q', 'user', 'big', 'fell', '##a', 'talk', 'user', 'first', 'met', 'future', 'teammate', 'penny', 'hard', '##away', 'w', '##h', '…', 'sep', 'user', 'chief', 'fun', 'officer', 'need', 'make', 'happen', 'know', 'got', 'boo', 'boo', 'i', '’', 'm', 'putting', 'cruise', 'start', 'packing', 'don', '’', 't', 'worry', 'cruise', 'wear', 'borrow', 'mine', 'te', '##igen', '##on', '##car', '##ni', '##val', 'user', 'sep', 'rt', 'user', 'user', 'going', 'perform', 'user', 'artist', 'project', 'stage', 'sha', '##q', '’', 's', 'fun', 'house', '##em', '##oj', '##i', 'link', 'sep', 'rt', 'user', 'think', 'user', 'mike', 'ryan', 'almost', 'announced', 'cryptic', 'texts', 'fat', '##h', '…', 'sep', 'already', 'know', 'it', '’', 's', 'ma', '##mba', 'em', '##oj', '##i', 'link', 'sep', 'ad', 'check', 'dallas', 'ball', '##er', 'ky', '##lon', 'owens', 'got', 'personal', 'big', 'amp', 'tall', 'st', '##yl', '##ist', 'user', 'day', 'ky', '##lon', '’', 's', 'graduating', 'high', 'school', 'diploma', 'associate', '’', 's', 'degree', 'time', 'played', 'varsity', 'ball', 'freshman', 'year', 'alla', '##t', '##j', '##cp', 'link', 'sep', 'official', 'user', 'starting', 'lineup', 'one', 'best', 'teams', 'assembled', 'user', 'user', 'user', 'user', 'user', 'user', 'user', 'sw', '##ish', '##er', 'stage', 'big', 'game', 'weekend', 'dream', 'team', 'em', '##oj', '##i', 'see', 'miami', 'tickets', 'remain', 'link', 'link', 'sep', 'rt', 'user', 'you', '’', 're', 'dj', 'booth', 'user', 'still', 'taller', 'em', '##oj', '##i', 'th', '##nx', 'big', 'man', 'em', '##oj', '##i', 'user', 'link', 'sep', 'rt', 'user', 'sha', '##q', '##sf', '##un', '##house', 'going', 'epic', 'see', 'tickets', 'amp', 'info', 'link', 'link', 'sep', 'decided', 'night', 'user', 'need', 'sing', 'africa', 'main', 'stage', 'user', 'bo', '##i', 'bo', '##i', 'link', 'sep', 'rt', 'user', 'week', '’', 's', 'story', '##time', 'sha', '##q', 'user', 'user', 're', '##li', '##ve', 'memories', 'collecting', 'basketball', 'cards', 'one', 'particular', 'p', '…', 'sep', 'watch', 'user', 'undercover', 'boss', 'tonight', 'wed', 'jan', '8th', '87', '##c', 'cbs', 'see', 'buddies', 'user', 'amp', 'user', 'stand', 'heat', 'kitchen', 'undercover', '##bos', '##s', 'sep', 'your', '##e', 'looking', 'kris', '##py', 'k', '##rem', '##es', 'new', 'year', '’', 's', 'resolutions', 'coach', 'america', 'im', 'help', 'stay', 'track', 'resolutions', 'little', 'guys', '–', 'new', 'user', 'mini', '##s', '90', 'cal', '##ories', 'cheat', '##sw', '##eet', 'keep', 'resolutions', 'track', '”', 'ad', 'link', 'sep', 'rip', 'mr', 'david', 'stern', 'best', 'commissioner', 'link', 'sep', 'thank', 'mr', 'li', 'loyal', 'fan', 'especially', 'awesome', 'drawing', 'link', 'link', 'sep', 'now', 'make', 'ad', 'go', '##fort', '##o', 'user', 'link', 'sep', 'rt', 'user', 'sha', '##qa', '##cl', '##aus', 'gets', 'spirit', 'giving', 'episode', '‘', 'story', '##time', 'user', '’', 'em', '##oj', '##i', 'link', 'sep', 'want', 'give', 'special', 'shout', '##out', 'everyone', 'made', 'year', '’', 's', 'sha', '##qa', '##cl', '##aus', 'big', 'success', 'thank', 'support', 'user', 'user', 'user', 'user', 'user', 'link', 'sep', 'tickets', 'sha', '##q', '’', 's', 'fun', 'house', 'miami', 'sale', 'now', 'em', '##oj', '##i', 'join', 'alongside', 'user', 'user', 'user', 'user', 'user', 'special', 'guest', 'sw', '##ish', '##er', 'sweets', 'stage', 'user', 'biggest', 'party', 'miami', 'link', 'link', 'sep', 'rt', 'user', 'ending', '2019', 'another', 'huge', 'win', 'every', 'team', 'nominated', 'insane', 'honored', 'win', 'user', 'team', 'ye', '##a', '…', 'sep', 'sha', '##q', '##s', 'fun', 'house', 'big', 'game', 'weekend', 'miami', 'em', '##oj', '##i', 'feat', 'user', 'user', 'user', 'user', 'user', 'user', 'user', 'tickets', 'sale', 'thursday', '11', '##am', 'est', 'sign', 'now', 'link', 'link', 'sep', 'user', 'dance', 'link', 'sep', 'thanks', 'user', 'we', '’', 're', 'delivering', 'smiles', 'kids', 'across', 'country', 'week', '–', 'let', 'know', 'you', '’', 're', 'giving', 'back', 'season', 'delivering', '##sm', '##ile', '##s', 'link', 'sep', 'rt', 'user', 'episode', 'story', '##time', 'sha', '##q', 'big', 'fell', '##a', 'talks', 'user', 'taking', 'wing', 'amp', 'plays', 'fun', 'game', 'start', 'bench', '…', 'sep', 'sponsored', 'looking', 'make', 'little', 'cash', 'holiday', 'season', 'earn', 'money', 'users', 'income', 'booster', '##s', 'visit', 'link', 'now', 'start', 'spreading', 'holiday', 'cheer', 'steady', 'link', 'sep', 'sponsored', 'go', 'undercover', 'peek', 'user', 'new', 'crust', 'em', '##oj', '##i', 'link', 'sep', 'sponsored', 'new', 'smash', '##up', 'user', 'perfect', 'birthday', 'surprise', 'go', 'check', 'american', '##gree', '##ting', '##spar', '##tner', 'smash', '##ups', 'link', 'link', 'sep', 'rt', 'user', 'user', 'sat', 'big', 'fell', '##a', 'another', 'episode', 'story', '##time', 'user', 'em', '##oj', '##i', 'link', 'sep', 'rt', 'user', 'sha', '##q', 'talks', 'rap', 'competition', 'dame', 'top', 'em', '##ce', '##es', 'amp', 'segment', 'story', '##time', 'sha', '##q', 'em', '##oj', '##i', 'link', 'sep', 'rt', 'user', 'latest', 'episode', 'story', '##time', 'sha', '##q', 'user', 'rec', '##ap', '##s', 'user', '’', 's', 'summer', '##time', 'adventures', 'dj', 'diesel', 'em', '##oj', '##i', 'link', 'sep', 'hey', 'guys', 'trying', 'make', 'money', 'side', 'hu', '##stle', 'user', '’', 's', 'got', 'back', 'sign', 'complete', 'offers', 'steady', 'will', 'put', 'money', 'pocket', 'don', '’', 't', 'believe', 'see', 'checking', 'link', 'sponsored', 'link', 'sep', 'get', '##apa', '##ir', '–', 'join', 'encourage', 'pair', 'friends', 'family', 'beam', '##an', 'exam', 'men', '##sh', '##eal', '##tha', '##ware', '##ness', 'month', 'november', 'link', 'sep', 'come', 'young', 'filmmakers', 'let', '’', 's', 'see', 'stuff', 'submit', 'movies', 'link', 'awesome', 'cause', 'user', 'user', 'awesome', 'prizes', 'hollywood', 'judges', 'kids', '##film', '##it', '##fest', '##iva', '##l', 'sep', 'user', 'thanks', 'condo', '##lence', '##s', 'love', 'older', 'brothers', '3', 'love', 'y', '’', 'all', 'love', 'candi', '##ce', 'sep', 'icy', '##mi', 'last', 'night', 'user', 'special', 'guests', 'best', 'two', 'lucky', 'audience', 'members', 'gave', 'user', 'cf', '##o', 'fun', 'things', 'choose', '##fu', '##n', 'ad', 'link', 'sep', 'say', 'rookie', 'year', 'shane', '##mc', '##ghi', '##e', 'one', 'next', 'great', 'actors', 'generation', 'props', 'emotional', 'moving', 'performance', 'boy', 'struggling', 'pts', '##d', 'abuse', 'foster', 'care', 'system', 'user', 'must', '##watch', 'fix', '##fo', '##ster', '##care', 'link', 'sep', 'hey', 'guys', 'trying', 'make', 'money', 'side', 'hu', '##stle', 'user', '’', 's', 'got', 'back', 'sign', 'complete', 'offers', 'steady', 'will', 'put', 'money', 'pocket', 'don', '’', 't', 'believe', 'see', 'checking', 'link', 'sponsored', 'link', 'sep', 'foster', '##care', 'crisis', 'america', 'puts', '440', '##00', '##0', 'kids', 'system', 'one', 'time', '61', 'unemployed', 'amp', '24', 'experience', 'homeless', '##ness', 'aging', 'nation', '’', 's', 'youth', 'deserve', '[UNK]', 'film', 'user', 'amp', 'join', 'movement', 'fix', '##fo', '##ster', '##care', 'link', 'sep', 'hey', 'user', 'coming', 'sha', '##q', '##s', 'bass', 'stars', 'user', 'tomorrow', 'night', 'heard', 'almost', 'sold', '[UNK]', 'link', 'link', 'sep', 'way', 'kick', 'week', 'las', 'vegas', 'much', 'fun', 'user', 'user', 'user', 'great', 'night', 'j', '##bl', 'remix', 'j', '##bl', '##fest', 'ad', 'link', 'sep', 'rt', 'user', 'look', 'baby', 'thanks', 'user', 'link', 'sep', 'user', 'sound', 'dumb', 'profile', 'pic', 'sep', 'user', 'u', 'now', 'ho', '##mie', 'sep', 'user', 'im', '##an', 'killed', 'sep', 'user', 'never', 'ill', 'sep', 'user', 'gonna', 'kill', 'bro', '##the', 'opening', 'gonna', 'tear', 'house', 'together', 'team', 'bass', '##all', '##star', '##s', 'sep', 'look', 'baby', 'thanks', 'user', 'link', 'sep', 'many', 'foster', 'kids', 'scared', 'neglected', 'lonely', 'amp', 'abused', 'im', 'proud', 'executive', 'amp', 'presenting', 'producer', 'user', 'inspiring', 'new', 'film', 'will', 'make', 'worldwide', 'premiere', 'user', 'user', 'later', 'week', 'link', 'sep', 'run', 'd', '##mc', 'jam', '##min', 'mug', 'link', 'sep', 'great', 'news', 'i', '’', 'm', 'teaming', 'friends', 'user', 'give', 'chance', 'join', 'game', 'one', '##ono', '##ne', 'em', '##oj', '##i', 'grab', 'self', '##ie', 'eat', 'user', 'pizza', 'em', '##oj', '##i', 'visit', 'set', 'user', 'em', '##oj', '##i', 'buy', 'entries', 'sha', '##q', '##sw', '##ee', '##ps', 'today', 'user', 'link', 'ad', 'link', 'sep', '800', 'students', 'oakland', 'elementary', 'mc', '##don', '##ough', 'ga', 'received', 'backpack', '##s', 'user', 'food', 'user', 'part', 'national', '5000', '##0', 'backpack', 'give', '##away', 'vera', '##bra', '##dley', 'matching', 'donations', 'blessings', '##inae', '##mo', '##ji', '5000', '##0', 'visit', 'link', 'link', 'sep', 'las', 'vegas', 'special', 'one', 'tonight', 'x', '##s', 'debut', 'going', 'insanity', 'i', '’', 'm', '130', 'see', 'em', '##oj', '##i', 'link', 'sep', 'em', '##oj', '##icon', '##gra', '##tula', '##tions', 'year', '’', 's', 'user', 'youth', 'year', 'nominees', 'well', 'year', '’', 's', 'youth', 'year', 'winner', 'sabrina', 'join', 'com', '##men', '##ding', 'leaders', 'tomorrow', 'raise', 'slice', 'pizza', 'honor', 'user', 'em', '##oj', '##i', 'sponsored', 'link', 'sep', 'rt', 'user', 'win', 'meet', 'amp', 'greet', 'dj', 'diesel', 'aka', 'user', 'pair', 'tickets', 'see', 'saturday', '101', '##2', 'em', '##oj', '##i', 'enter', 'link', 'sep', 'handsome', 'fell', '##a', 'em', '##oj', '##i', 'run', 'rookie', 'card', 'user', 'now', '[UNK]', 'link', 'link', 'sep', 'many', 'foster', 'kids', 'scared', 'neglected', 'lonely', 'amp', 'abused', 'im', 'proud', 'executive', 'amp', 'presenting', 'producer', 'user', 'inspiring', 'new', 'film', 'will', 'make', 'worldwide', 'premiere', 'user', 'user', 'later', 'week', 'link', 'sep', 'user', 'made', 'cf', '##o', 'everyone', 'hitting', 'cruise', 'deals', 'want', 'exclusive', 'offer', 'email', 'sha', '##qu', '##ser', '##com', 'sponsored', 'choose', '##fu', '##n', 'carnival', '##cr', '##uis', '##elin', '##e', 'oh', 'yeah', 'need', 'email', '102', '##41', '##9', 'link', 'sep', 'rt', 'user', '15', '##x', 'all', '##star', '4', '##x', 'nba', 'champion', '3', '##x', 'finals', 'mvp', '2', '##x', 'scoring', 'champion', '1', 'large', 'set', 'turn', '##table', '##s', 'link', 'sep', 'user', 'now', 'twitter', 'link', 'sep', 'user', 'good', 'lsu', 'sep', 'rt', 'user', 'perfect', 'ending', 'owl', '##20', '##19', 'anime', 'shock', 'season', '2', 'champions', 'link', 'sep', 'bam', 'future', 'coffee', 'want', 'try', 'click', 'link', 'use', 'code', 'sha', '##q', '##ener', '##gy', 'international', '##co', '##ffe', '##eda', '##y', 'sponsored', 'link', 'user', 'link', 'sep', 'foster', '##ki', '##ds', 'someone', 'else', '’', 's', 'kids', '–', 'they', '’', 're', 'kids', 'much', 'help', 'take', 'action', 'amp', 'join', 'fight', 'foster', 'kids', 'link', 'ur', '##l', 'op', '##ed', 'em', '##bed', 'link', 'link', 'sep', 'thank', 'user', 'link', 'sep', 'rt', 'user', 'today', 'user', 'athletic', 'learn', 'one', 'biggest', 'names', 'em', '##oj', '##i', 'became', 'successful', 'businessman', 'is', '…', 'sep', 'see', 'little', 'buddy', 'user', 'guess', 'anyone', 'correctly', 'season', 'premiere', 'them', '##ask', '##ed', '##sing', '##er', 'tonight', '8', '##p', '##7', '##c', 'sep', 'good', 'talking', 'pizza', 'hanging', 'user', 'user', 'friends', 'watch', 'full', 'story', 'link', 'link', 'sep', 'looking', 'improve', 'finances', 'user', 'will', 'pay', 'income', 'booster', '##s', 'completing', 'first', 'delivery', 'gig', 'platform', 'saving', 'bank', 'fees', 'insurance', 'rates', 'friends', 'steady', 'want', 'pay', 'check', 'link', 'sponsored', 'link', 'sep', 'user', 'join', 'mo', '##sh', '##pit', 'user', 'dj', '##dies', '##el', 'im', '##f', '##20', '##19', 'head', '##bang', '##ers', 'dub', '##ste', '##p', 'bass', '##music', 'thanks', 'imagine', 'link', 'sep', 'thanks', 'user', 'love', 'user', 'il', '##ove', '##at', '##lan', '##ta', 'emperor', '##of', '##du', '##bs', '##te', '##p', 'im', '##f', '##20', '##19', 'pl', '##ur', 'head', '##bang', '##ers', 'dj', '##dies', '##el', 'imagine', 'music', 'festival', 'link', 'sep', 'time', 'running', 'submit', 'version', 'user', 'jingle', 'chance', 'see', 'bobby', 'bones', 'amp', 'raging', 'idiots', 'live', 'vegas', 'check', 'remix', 'submit', 'link', 'september', '22', '2019', 'sponsored', 'link', 'sep', 'want', 'give', 'special', 'shout', '##out', 'blind', 'eye', 'artist', 'justin', '##wad', '##lington', 'blessing', 'amazing', 'limited', 'edition', 'piece', '##em', '##oj', '##i', 'user', 'camera', 'link', 'sep', 'main', 'man', 'ave', '##oa', '##rt', 'thing', 'link', 'sep', 'ap', '##oth', '##eo', '##sis', 'legends', 'by', '##just', '##in', '##wad', '##lington', 'ni', '##pse', '##y', 'hu', '##stle', 'link', 'sep', 'im', 'ready', 'user', 'friday', 'atlanta', 'ready', 'go', 'hard', 'pit', 'tickets', '##gt', '##gt', 'link', 'link', 'sep', 'atlanta', 'going', 'seeing', 'rail', 'next', 'weekend', 'user', 'sep', 'rt', 'user', 'call', 'duty', 'es', '##ports', 'league', 'officially', 'coming', 'chicago', 'user', 'incredibly', 'proud', 'represent', 'windy', 'city', '’', 's', 'o', '…', 'sep', 'look', 'onboard', 'user', 'ship', 'chief', 'fun', 'officer', 'known', 'fun', 'check', 'time', '##to', '##time', 'em', '##oj', '##i', 'choose', '##fu', '##n', 'carnival', 'sponsored', 'link', 'sep', 'soc', '##al', 'excited', 'announce', 'i', '’', 'm', 'bringing', 'user', 'user', 'glendale', 'end', '2019', 'big', '##chi', '##cken', 'link', 'sep', 'rt', 'user', 'hot', 'sauce', 'radio', 'w', 'one', 'amp', 'user', 'starts', '10', '##min', 'em', '##oj', '##i', 'don', '’', 't', 'want', 'miss', 'one', 'tune', 'em', '##oj', '##i', 'link', 'sep', 'ready', 'slice', 'happy', 'it', '’', 's', 'better', 'day', 'user', 'better', '##day', 'sponsored', 'link', 'sep', 'montreal', 'showed', 'sha', '##q', '##s', 'bass', 'stars', 'last', 'weekend', 'thank', 'canada', '[UNK]', 'user', 'user', 'user', 'user', 'link', 'sep', 'friends', 'user', 'user', 'sha', '##q', '##tos', '##cho', '##ol', 'activities', 'summer', 'helping', 'kids', 'benefit', '##ting', 'user', 'see', 'link', 'sha', '##q', '##tos', '##cho', '##ol', 'za', '##pp', '##os', '##for', '##good', 'za', '##pp', '##os', 'school', '##is', '##for', '##win', '##ners', 'link', 'sep', 'electric', 'zoo', 'wild', 'em', '##oj', '##i', 'user', 'link']\n"
     ]
    }
   ],
   "source": [
    "print(\"Tokenized: \", tokenizer.tokenize(tweets[0]))"
   ]
  },
  {
   "cell_type": "code",
   "execution_count": 27,
   "metadata": {},
   "outputs": [
    {
     "name": "stdout",
     "output_type": "stream",
     "text": [
      "Token IDs:  [19387, 5310, 7861, 29147, 2072, 3201, 2156, 14751, 2911, 1521, 1055, 2171, 2097, 7861, 29147, 2072, 4283, 5826, 5094, 2149, 4895, 8758, 2171, 1529, 19802, 2051, 28258, 5310, 24306, 26221, 2015, 2191, 3733, 6752, 6911, 4638, 4957, 4957, 19802, 6706, 4122, 8627, 15697, 3361, 2925, 7532, 2924, 4070, 5310, 3229, 6666, 3318, 20062, 3784, 2966, 7879, 5356, 8624, 6694, 2318, 2651, 5873, 4957, 6485, 4957, 19802, 2204, 2028, 5310, 2292, 1521, 1055, 2156, 8038, 3363, 2488, 2272, 7955, 2265, 2190, 2398, 3270, 4160, 4748, 4957, 4957, 19802, 21849, 25434, 25450, 2015, 19802, 3233, 3076, 7576, 2057, 7447, 9284, 13068, 19802, 4299, 6735, 2637, 1045, 1521, 1049, 2067, 11420, 28075, 4627, 3892, 1022, 2361, 3802, 5310, 4608, 2635, 7209, 25912, 21146, 19062, 5946, 3600, 4826, 1023, 2361, 3802, 4957, 19802, 5241, 5093, 3410, 5310, 5198, 2877, 2705, 22494, 5603, 22305, 2063, 3693, 2149, 2035, 14117, 2792, 2651, 2184, 13866, 4957, 4957, 19802, 2292, 1521, 1055, 2651, 10047, 2053, 27932, 5310, 4957, 5310, 5310, 5310, 2026, 14117, 3436, 8873, 3726, 5126, 23713, 6304, 3201, 3789, 2281, 2202, 16393, 2651, 23713, 4236, 1517, 14181, 4957, 4957, 19802, 2034, 21146, 4160, 15088, 16523, 2239, 2243, 1023, 2454, 2444, 7193, 3271, 5310, 5333, 2769, 5310, 5310, 8732, 2454, 12278, 6955, 5310, 2502, 11245, 5833, 5310, 3071, 2864, 3422, 7861, 29147, 2072, 7861, 29147, 2072, 5310, 4957, 19802, 1045, 1521, 1049, 27001, 5310, 4119, 2026, 14117, 3436, 8873, 3726, 5310, 5310, 5310, 5310, 5310, 16393, 3789, 2281, 2362, 2689, 2215, 2156, 2088, 4236, 2651, 14181, 4957, 4957, 19802, 5310, 2081, 2843, 4569, 12698, 2086, 2028, 20672, 2028, 2190, 2678, 4957, 19802, 4957, 19802, 4364, 2113, 2172, 2293, 2189, 2814, 5310, 2404, 2362, 12476, 2621, 2377, 9863, 5440, 2621, 13281, 4957, 4957, 19802, 2040, 7361, 2072, 2097, 2191, 4489, 2293, 1057, 19802, 7697, 5310, 2085, 5310, 6633, 29147, 2072, 4957, 4957, 19802, 2392, 4179, 3667, 4901, 11164, 2995, 5394, 2156, 2393, 2149, 3362, 1015, 2454, 4157, 2915, 11440, 2034, 6869, 2121, 2565, 4957, 3481, 29477, 5339, 3678, 4957, 19802, 2057, 1521, 2128, 2067, 3693, 5310, 5310, 5310, 1022, 9737, 3802, 24048, 4957, 19802, 2139, 14808, 5844, 5310, 2915, 7348, 3337, 3057, 2252, 2637, 2017, 1521, 2310, 2288, 5394, 2215, 2507, 11245, 3745, 2678, 2224, 2915, 29278, 5886, 22504, 4957, 19802, 5310, 2481, 1521, 1056, 6865, 2998, 13012, 9035, 3591, 5310, 2569, 4283, 5094, 2624, 25090, 4371, 2996, 16012, 21572, 26557, 2102, 2197, 3938, 2420, 23713, 4346, 6544, 2489, 2192, 2624, 25090, 6290, 8563, 16216, 10867, 2015, 1020, 8093, 2015, 18723, 4957, 19802, 4067, 5310, 2296, 15757, 5095, 2305, 2034, 21146, 4160, 1521, 1055, 4569, 2160, 5443, 24665, 2239, 2243, 3509, 5621, 2283, 3800, 2490, 2048, 6429, 4411, 4957, 19802, 2293, 1057, 3335, 1057, 2567, 5310, 4957, 19802, 2633, 14704, 2502, 2438, 2192, 100, 2047, 21146, 19062, 4948, 2072, 10733, 8209, 1059, 4469, 11565, 10698, 23713, 8808, 4840, 23126, 7121, 4857, 1059, 22286, 2015, 3341, 5310, 2097, 21357, 1015, 2296, 5309, 13008, 2198, 1521, 1055, 3192, 2311, 2451, 4957, 19802, 4283, 2880, 2833, 6959, 4256, 5310, 12382, 13445, 12278, 2945, 2342, 1023, 2454, 2111, 15757, 5353, 23713, 4283, 2777, 3125, 2341, 8883, 2232, 2097, 21357, 8732, 2454, 12278, 5386, 5310, 4957, 19802, 2253, 2132, 2132, 5310, 2208, 3586, 3591, 5310, 2208, 21146, 4160, 2806, 3662, 3071, 2145, 2288, 8680, 24654, 2243, 4957, 19802, 6160, 17212, 25708, 3286, 2502, 18856, 7646, 4957, 19802, 6817, 5310, 5310, 2998, 24419, 21146, 4160, 1521, 1055, 4569, 2160, 5443, 24665, 2239, 2243, 3509, 2182, 1521, 1055, 6947, 4957, 19802, 2467, 2204, 2051, 2136, 5310, 8247, 7652, 2015, 4748, 4957, 19802, 4957, 19802, 2183, 3892, 5310, 8694, 3892, 1022, 9737, 9765, 3422, 5310, 6637, 8680, 7860, 5952, 4606, 4616, 5310, 5310, 5310, 5310, 3582, 14841, 2243, 2000, 2243, 14181, 13512, 4957, 19802, 3892, 1022, 9737, 9765, 5310, 3422, 3786, 5310, 8680, 7860, 6274, 2769, 2591, 3425, 21146, 4160, 2015, 4569, 2160, 5443, 24665, 2239, 2243, 3509, 4606, 4616, 5310, 5310, 5310, 5310, 23713, 3374, 24665, 2239, 2243, 10047, 3045, 7861, 29147, 18622, 8950, 19802, 2045, 1521, 1055, 2047, 8875, 5310, 19782, 25442, 1529, 2008, 1521, 1055, 2157, 1529, 2009, 1521, 1055, 5310, 3693, 9130, 2444, 9317, 1021, 7610, 3802, 8439, 2399, 2444, 2189, 5310, 2507, 9497, 2015, 15424, 3550, 23296, 10253, 4957, 4957, 19802, 5310, 3228, 3382, 7209, 7484, 10733, 2283, 23713, 5310, 2175, 4957, 3696, 13008, 19054, 8073, 3133, 5309, 4072, 4515, 22810, 2880, 3513, 4957, 4957, 19802, 8285, 14413, 2098, 28772, 4606, 2184, 4791, 2097, 8285, 14413, 2098, 3608, 25719, 2175, 4957, 4553, 4607, 3382, 2663, 19802, 3201, 2283, 3800, 4077, 5310, 2663, 7262, 5470, 3325, 2236, 9634, 26981, 15166, 2015, 1015, 2882, 3396, 3453, 2097, 2663, 2236, 9634, 3396, 5308, 2164, 7484, 3113, 17021, 24665, 2239, 2243, 4957, 19802, 2362, 5310, 23713, 5826, 5310, 2580, 7484, 2283, 3800, 10047, 6069, 2202, 24665, 2239, 2243, 5952, 23713, 5310, 5310, 5310, 5310, 23713, 5310, 8694, 5786, 2581, 4957, 23713, 5310, 4957, 19802, 19387, 5310, 5310, 2112, 8958, 6090, 11877, 2674, 2208, 23944, 1053, 1523, 2023, 5843, 7698, 4028, 5306, 2166, 24185, 1529, 19802, 2048, 8052, 2308, 2998, 2865, 2587, 2149, 5310, 2197, 3232, 3134, 4638, 6429, 5310, 5310, 4957, 4957, 19802, 19387, 5310, 5310, 5310, 2377, 2461, 24547, 22345, 11333, 18142, 2160, 4202, 3138, 2126, 5667, 7861, 29147, 2072, 2733, 1529, 19802, 5310, 5310, 5310, 2748, 19802, 19387, 5310, 5310, 4487, 21338, 2229, 5051, 6593, 3993, 24654, 5705, 4957, 19802, 5310, 5310, 5310, 2489, 11618, 2134, 1521, 1056, 2644, 4399, 3198, 23603, 2187, 9735, 19802, 3504, 2204, 26478, 8609, 2015, 4575, 16216, 13754, 3775, 15776, 4957, 19802, 2175, 3582, 5310, 10474, 19802, 2131, 7629, 1521, 3201, 3648, 6583, 9905, 2779, 24419, 4637, 5310, 5310, 1521, 1055, 1042, 2497, 2787, 5466, 3614, 10449, 5310, 1521, 1055, 6583, 9905, 22201, 2800, 3132, 2051, 4664, 10951, 2097, 6955, 4825, 7904, 4335, 4636, 4957, 19802, 5310, 5310, 7098, 2112, 2136, 5310, 19802, 10930, 3581, 26316, 4283, 4957, 19802, 4638, 2587, 4116, 3260, 6816, 2393, 3288, 2998, 2067, 2402, 5784, 2690, 2082, 6316, 2135, 10097, 2098, 10258, 20060, 19362, 18885, 5310, 4957, 19802, 7098, 2156, 5310, 6955, 6694, 8889, 15806, 5310, 2733, 3614, 19362, 18885, 4957, 19802, 10047, 2551, 5310, 21357, 1015, 2454, 4157, 7171, 9871, 5886, 22504, 2175, 4957, 2156, 2393, 3481, 29477, 5339, 3678, 4957, 19802, 7937, 21146, 4160, 8840, 4571, 12952, 9541, 4143, 3915, 10476, 4957, 3081, 5310, 19802, 5394, 3566, 2016, 1521, 1055, 5394, 2296, 2154, 2388, 1521, 1055, 2154, 2292, 2113, 7348, 3745, 8029, 5886, 2080, 5310, 29175, 13944, 5339, 3678, 4957, 19802, 10047, 2467, 2667, 7046, 2488, 2477, 2296, 2154, 2424, 14570, 2054, 2015, 2590, 2161, 9599, 21146, 4160, 15509, 3892, 5818, 2278, 5310, 24048, 19362, 18885, 4957, 19802, 26478, 8609, 2015, 2814, 9033, 7568, 2156, 4602, 2998, 3441, 2716, 2166, 12117, 5310, 4957, 19802, 1045, 1521, 1049, 7098, 2402, 3203, 2016, 1521, 1055, 2551, 2524, 2047, 2166, 6322, 5094, 2111, 2296, 2154, 2302, 13431, 4067, 5310, 4957, 19802, 19387, 5310, 10756, 10259, 3228, 2185, 1019, 3435, 14876, 3406, 26221, 2015, 7615, 2224, 3435, 14876, 13122, 28394, 4523, 15166, 2015, 4607, 1015, 3453, 19413, 2278, 1529, 19802, 2097, 10756, 10259, 4283, 3435, 14876, 3406, 26221, 2009, 1521, 2222, 3566, 5440, 5758, 4638, 4569, 5310, 20383, 2239, 19362, 18885, 4957, 19802, 3531, 3693, 2814, 4021, 2554, 27084, 2389, 4465, 2089, 7605, 1019, 9737, 8827, 2102, 1022, 9737, 9765, 7484, 2724, 3061, 14398, 2051, 2522, 17258, 2362, 4957, 19802, 1045, 1521, 1049, 7098, 2402, 3203, 2016, 1521, 1055, 2551, 2524, 2047, 2166, 6322, 5094, 2111, 2296, 2154, 2302, 13431, 4067, 3520, 13832, 7849, 2666, 4957, 19802, 2155, 2673, 2823, 10657, 2224, 2210, 7823, 2293, 2424, 2812, 21146, 4160, 15509, 3892, 5818, 2278, 5310, 24048, 19362, 18885, 4957, 19802, 2307, 2051, 3331, 5310, 5310, 5310, 2067, 3892, 2180, 1521, 1056, 10587, 3335, 2895, 4957, 19802, 2444, 5088, 7265, 6199, 2265, 2814, 5310, 2175, 4638, 2444, 2085, 4957, 19802, 2814, 8097, 2655, 2028, 23067, 12933, 2424, 21146, 4160, 15509, 3892, 5818, 2278, 5310, 24048, 19362, 18885, 4957, 19802, 10930, 5310, 26316, 10657, 3693, 2149, 2574, 3134, 21146, 4160, 10526, 4957, 4957, 19802, 19387, 5310, 2054, 2015, 5440, 3159, 2299, 1056, 28394, 2102, 2149, 2478, 3159, 4957, 19802, 2651, 1045, 1521, 1049, 5094, 4888, 16717, 7245, 3049, 1516, 6865, 6045, 2392, 2341, 2265, 4283, 2392, 4179, 2833, 3667, 4363, 2149, 7349, 7713, 2188, 6415, 6302, 16717, 7245, 2292, 1521, 1055, 3659, 2293, 4957, 19802, 2655, 2678, 9289, 2140, 14163, 22592, 2449, 2327, 28712, 2290, 27017, 3953, 2299, 2228, 10047, 9389, 6562, 2678, 100, 29175, 13944, 5339, 3678, 4957, 19802, 5466, 5963, 2028, 4602, 3065, 2404, 14430, 6891, 2417, 5749, 4608, 2895, 21146, 4160, 15509, 4826, 5818, 2278, 5310, 24048, 19362, 18885, 4957, 19802, 2288, 2051, 5310, 6595, 3647, 2188, 2424, 9088, 6728, 2389, 4003, 3132, 2026, 27058, 2213, 5308, 7861, 29147, 2072, 4957, 19802, 2116, 2147, 2814, 5310, 2215, 2393, 2057, 1521, 2128, 14763, 2456, 2692, 2047, 5126, 1516, 5670, 4177, 6853, 6611, 2085, 4957, 3793, 5841, 4700, 22907, 2475, 13008, 5558, 7295, 27694, 18885, 4957, 19802, 2493, 4083, 2188, 2302, 4274, 24078, 4187, 4283, 5310, 1521, 1055, 26161, 23713, 2490, 2695, 2950, 2695, 29278, 11837, 6895, 4877, 2322, 14745, 2015, 2097, 3024, 2104, 8043, 7178, 2493, 5310, 18558, 4957, 19802, 2155, 2147, 2673, 2123, 1521, 1056, 3335, 6765, 2047, 2186, 21146, 4160, 15509, 3892, 5818, 2278, 5310, 24048, 19362, 18885, 4957, 19802, 2716, 2149, 2516, 2002, 20257, 2097, 2175, 1015, 2002, 2015, 5310, 2733, 16216, 13754, 3775, 15776, 4067, 1057, 5310, 5241, 2149, 2265, 4957, 19802, 7348, 4929, 4880, 2015, 4067, 2524, 21398, 9871, 3667, 5378, 19394, 5649, 7954, 5310, 27649, 6187, 23713, 5869, 7136, 1050, 2615, 2258, 6079, 2475, 2298, 9871, 12284, 2733, 4957, 13063, 18558, 19802, 19387, 5310, 5440, 2617, 2627, 2161, 2466, 7292, 5310, 7861, 29147, 2072, 4608, 2161, 1016, 2569, 2502, 3062, 2050, 2019, 1529, 19802, 1045, 1521, 1049, 7098, 2112, 3481, 2080, 2092, 2589, 2136, 2292, 1521, 1055, 2424, 3971, 8439, 23713, 2490, 9871, 5886, 22504, 3481, 29477, 5339, 3678, 4957, 19802, 4638, 22953, 5310, 2466, 7292, 21146, 4160, 2569, 5310, 5095, 2258, 4343, 2184, 2361, 2264, 3023, 1021, 2361, 2225, 3023, 2275, 23816, 19716, 2994, 7076, 5178, 2017, 29602, 4571, 8953, 12997, 21716, 5562, 4957, 19802, 2903, 1045, 1521, 2310, 2288, 2265, 5310, 8694, 21146, 4160, 15509, 2258, 6280, 5310, 4957, 19802, 2158, 3256, 19817, 6679, 5310, 3134, 5310, 11680, 2149, 14739, 2047, 3065, 2296, 2733, 2393, 1057, 27046, 2027, 2890, 2467, 2489, 4957, 19802, 19387, 5310, 24209, 20486, 10196, 2154, 2539, 4957, 19802, 19387, 5310, 2507, 4323, 5302, 4478, 19927, 5505, 1016, 2567, 6520, 5310, 1529, 1037, 12878, 7585, 2099, 23713, 4446, 28522, 6290, 1529, 1996, 3083, 2785, 1529, 6737, 5621, 5310, 1529, 19802, 19387, 5310, 2502, 3062, 2050, 15841, 2190, 12698, 5310, 6745, 2466, 7292, 5310, 7861, 29147, 2072, 4957, 19802, 5545, 9617, 8566, 2204, 2767, 2770, 25682, 3664, 16392, 20330, 2448, 7849, 6843, 3388, 15532, 19802, 2009, 1521, 1055, 2467, 2307, 9105, 8937, 2085, 2814, 2590, 5310, 8627, 2298, 4748, 4957, 19802, 5310, 1019, 2335, 19802, 19387, 5310, 2538, 2086, 3283, 2651, 5310, 24654, 8126, 3782, 12648, 7861, 29147, 2072, 4957, 19802, 2502, 11245, 5833, 5310, 2635, 2729, 5126, 3697, 2335, 1015, 2155, 7098, 5310, 6319, 3246, 3071, 7136, 2105, 2088, 6595, 2188, 6595, 3647, 2488, 2335, 3805, 4957, 19802, 19387, 5310, 26823, 9541, 5310, 1060, 5310, 5310, 1060, 5310, 7861, 29147, 2072, 4957, 19802, 2356, 6170, 2236, 29262, 4536, 24415, 10760, 6914, 21673, 4748, 4957, 19802, 4748, 2012, 2102, 2078, 2449, 5608, 7861, 29147, 2072, 5247, 2051, 14527, 15117, 2015, 6450, 10710, 22998, 2449, 15110, 23301, 8021, 7861, 29147, 2072, 5310, 4957, 19802, 4748, 8694, 8434, 21146, 4160, 4239, 2075, 3892, 1022, 9737, 3802, 5310, 4606, 2047, 6304, 2224, 3642, 21146, 4160, 11387, 2322, 7861, 29147, 2072, 4497, 2232, 4160, 7377, 4160, 4957, 4957, 19802, 19387, 5310, 1523, 2085, 1045, 1521, 1049, 3225, 7937, 3806, 4951, 1524, 7861, 29147, 2072, 2792, 1520, 2466, 7292, 5310, 1521, 2502, 3062, 2050, 7545, 2010, 1529, 19802, 4748, 2272, 2377, 3608, 8958, 2814, 4606, 2798, 11286, 3051, 8958, 24514, 4438, 5865, 2175, 4957, 3789, 2136, 18178, 9351, 4183, 3382, 2663, 3513, 4957, 4957, 19802, 5958, 2051, 2424, 2814, 2175, 13028, 2080, 5310, 5310, 5310, 4748, 4957, 19802, 4748, 5466, 5963, 2718, 4534, 5631, 5310, 4569, 3769, 19461, 1061, 1521, 2035, 2113, 2034, 5427, 10802, 3984, 2034, 2482, 4536, 24415, 10760, 6914, 21673, 4957, 19802, 5310, 6904, 2213, 2288, 7046, 26478, 8609, 2015, 5310, 11113, 2290, 13868, 5310, 7861, 29147, 2072, 4957, 19802, 10209, 5310, 6765, 5310, 2574, 3693, 3459, 3626, 2417, 10135, 11326, 8439, 2143, 2393, 5333, 7073, 7897, 6469, 2729, 2490, 2929, 8081, 14876, 6238, 16302, 2651, 4957, 19802, 4748, 2292, 1521, 1055, 2265, 2798, 11286, 3051, 3410, 3504, 3786, 8958, 24514, 4438, 3789, 2136, 4957, 3382, 3693, 5865, 5309, 4072, 18558, 6820, 4244, 4957, 4957, 19802, 5310, 2047, 8072, 3270, 5669, 10733, 10014, 2293, 3460, 3641, 3046, 2085, 10245, 7507, 2102, 4957, 4957, 19802, 2296, 2095, 5310, 4152, 7046, 2488, 2095, 2367, 11245, 5833, 3071, 14215, 2754, 2234, 7861, 29147, 2072, 4957, 19802, 3791, 5061, 6323, 21146, 4160, 7861, 29147, 2072, 22953, 8322, 5310, 1520, 1055, 3539, 2186, 5308, 3333, 5310, 4748, 4957, 19802, 4067, 4364, 2785, 7696, 3134, 5310, 4994, 2208, 20587, 2015, 2991, 4257, 5310, 4438, 4957, 2156, 4364, 6928, 19802, 2047, 3204, 2047, 5926, 2337, 4292, 3361, 3289, 2814, 5310, 2393, 3828, 7796, 2769, 2009, 1521, 1055, 3733, 2318, 2651, 5873, 4957, 6485, 4957, 19802, 27084, 2389, 2117, 5310, 2085, 2330, 27649, 6187, 2408, 5310, 2502, 5428, 19766, 7377, 4160, 2502, 5428, 19766, 9354, 8943, 2571, 4957, 19802, 19387, 5310, 2054, 2015, 5440, 2143, 5310, 5652, 7861, 29147, 2072, 6745, 2466, 7292, 21146, 4160, 23412, 5691, 2007, 1529, 19802, 4748, 2130, 4771, 21146, 4160, 22747, 4609, 4580, 5631, 5353, 2560, 4521, 5310, 2047, 13008, 9032, 2015, 2085, 5034, 2100, 2987, 1521, 1056, 2272, 20548, 12901, 9545, 100, 4957, 19802, 4957, 19802, 5310, 7050, 2567, 24113, 12471, 4957, 10973, 2863, 11201, 19802, 24113, 2172, 8258, 2155, 2158, 2691, 8549, 2336, 9979, 4268, 3336, 2611, 15453, 2072, 2141, 2154, 6587, 2684, 2033, 1521, 19027, 2232, 4957, 19802, 2045, 1521, 1055, 2616, 4671, 3255, 10047, 2183, 10576, 8840, 18606, 11265, 6610, 15453, 2072, 23713, 2567, 5310, 2293, 1057, 1057, 2097, 4771, 25805, 22717, 2015, 3632, 12471, 2155, 2945, 5467, 2604, 10047, 5305, 2157, 2085, 4957, 19802, 5310, 5310, 5310, 5310, 5310, 5310, 5310, 5310, 5310, 5310, 5310, 5310, 5310, 3066, 2156, 5631, 19802, 5310, 5310, 5310, 5310, 5310, 5310, 5310, 5310, 5310, 5310, 5310, 5310, 5310, 2288, 2971, 2190, 2502, 2208, 5353, 2283, 22953, 19802, 5310, 5310, 5310, 5310, 5310, 5310, 5310, 2208, 22953, 5026, 2035, 14117, 2015, 4569, 2160, 5310, 5310, 5310, 5310, 5310, 4606, 5310, 25430, 4509, 2121, 2754, 1998, 14141, 2094, 2440, 2946, 11485, 2821, 8038, 2502, 2569, 4113, 5310, 2409, 2633, 2191, 2095, 7861, 29147, 2072, 19802, 2963, 2097, 5631, 2095, 5310, 1057, 2746, 4569, 2160, 4553, 2428, 5466, 2283, 19802, 4748, 2482, 4638, 6309, 4638, 5427, 2655, 2236, 3139, 5310, 4957, 19802, 7861, 29147, 11514, 3736, 6633, 29147, 2072, 21146, 4160, 1521, 1055, 4569, 2160, 14841, 2595, 2471, 2853, 3693, 2502, 2208, 5353, 4469, 3567, 5289, 4143, 3794, 5310, 5310, 5310, 5310, 5310, 25430, 4509, 2121, 26844, 2754, 5310, 23713, 2279, 5958, 5631, 7861, 29147, 2072, 14841, 2595, 4957, 2489, 2833, 23713, 2330, 3347, 4957, 19802, 19387, 5310, 6745, 2466, 7292, 21146, 4160, 5310, 2502, 3062, 2050, 2831, 5310, 2034, 2777, 2925, 10809, 10647, 2524, 9497, 1059, 2232, 1529, 19802, 5310, 2708, 4569, 2961, 2342, 2191, 4148, 2113, 2288, 22017, 22017, 1045, 1521, 1049, 5128, 8592, 2707, 14743, 2123, 1521, 1056, 4737, 8592, 4929, 17781, 3067, 8915, 29206, 2239, 10010, 3490, 10175, 5310, 19802, 19387, 5310, 5310, 2183, 4685, 5310, 3063, 2622, 2754, 21146, 4160, 1521, 1055, 4569, 2160, 6633, 29147, 2072, 4957, 19802, 19387, 5310, 2228, 5310, 3505, 4575, 2471, 2623, 26483, 6981, 6638, 2232, 1529, 19802, 2525, 2113, 2009, 1521, 1055, 5003, 11201, 7861, 29147, 2072, 4957, 19802, 4748, 4638, 5759, 3608, 2121, 18712, 7811, 14824, 2288, 3167, 2502, 23713, 4206, 2358, 8516, 2923, 5310, 2154, 18712, 7811, 1521, 1055, 6800, 2152, 2082, 9827, 5482, 1521, 1055, 3014, 2051, 2209, 11710, 3608, 10452, 2095, 25699, 2102, 3501, 21906, 4957, 19802, 2880, 5310, 3225, 10515, 2028, 2190, 2780, 9240, 5310, 5310, 5310, 5310, 5310, 5310, 5310, 25430, 4509, 2121, 2754, 2502, 2208, 5353, 3959, 2136, 7861, 29147, 2072, 2156, 5631, 9735, 3961, 4957, 4957, 19802, 19387, 5310, 2017, 1521, 2128, 6520, 9065, 5310, 2145, 12283, 7861, 29147, 2072, 16215, 26807, 2502, 2158, 7861, 29147, 2072, 5310, 4957, 19802, 19387, 5310, 21146, 4160, 22747, 4609, 4580, 2183, 8680, 2156, 9735, 23713, 18558, 4957, 4957, 19802, 2787, 2305, 5310, 2342, 6170, 3088, 2364, 2754, 5310, 8945, 2072, 8945, 2072, 4957, 19802, 19387, 5310, 2733, 1521, 1055, 2466, 7292, 21146, 4160, 5310, 5310, 2128, 3669, 3726, 5758, 9334, 3455, 5329, 2028, 3327, 1052, 1529, 19802, 3422, 5310, 16382, 5795, 3892, 21981, 5553, 5893, 6584, 2278, 6568, 2156, 24115, 5310, 23713, 5310, 3233, 3684, 3829, 16382, 15853, 2015, 19802, 2115, 2063, 2559, 19031, 7685, 1047, 28578, 2229, 2047, 2095, 1521, 1055, 18853, 2873, 2637, 10047, 2393, 2994, 2650, 18853, 2210, 4364, 1516, 2047, 5310, 7163, 2015, 3938, 10250, 18909, 21910, 26760, 15558, 2562, 18853, 2650, 1524, 4748, 4957, 19802, 10973, 2720, 2585, 8665, 2190, 5849, 4957, 19802, 4067, 2720, 5622, 8884, 5470, 2926, 12476, 5059, 4957, 4957, 19802, 2085, 2191, 4748, 2175, 13028, 2080, 5310, 4957, 19802, 19387, 5310, 21146, 19062, 20464, 20559, 4152, 4382, 3228, 2792, 1520, 2466, 7292, 5310, 1521, 7861, 29147, 2072, 4957, 19802, 2215, 2507, 2569, 11245, 5833, 3071, 2081, 2095, 1521, 1055, 21146, 19062, 20464, 20559, 2502, 3112, 4067, 2490, 5310, 5310, 5310, 5310, 5310, 4957, 19802, 9735, 21146, 4160, 1521, 1055, 4569, 2160, 5631, 5096, 2085, 7861, 29147, 2072, 3693, 4077, 5310, 5310, 5310, 5310, 5310, 2569, 4113, 25430, 4509, 2121, 26844, 2754, 5310, 5221, 2283, 5631, 4957, 4957, 19802, 19387, 5310, 4566, 10476, 2178, 4121, 2663, 2296, 2136, 4222, 9577, 8686, 2663, 5310, 2136, 6300, 2050, 1529, 19802, 21146, 4160, 2015, 4569, 2160, 2502, 2208, 5353, 5631, 7861, 29147, 2072, 8658, 5310, 5310, 5310, 5310, 5310, 5310, 5310, 9735, 5096, 9432, 2340, 3286, 9765, 3696, 2085, 4957, 4957, 19802, 5310, 3153, 4957, 19802, 4283, 5310, 2057, 1521, 2128, 12771, 8451, 4268, 2408, 2406, 2733, 1516, 2292, 2113, 2017, 1521, 2128, 3228, 2067, 2161, 12771, 6491, 9463, 2015, 4957, 19802, 19387, 5310, 2792, 2466, 7292, 21146, 4160, 2502, 3062, 2050, 7566, 5310, 2635, 3358, 23713, 3248, 4569, 2208, 2707, 6847, 1529, 19802, 6485, 2559, 2191, 2210, 5356, 6209, 2161, 7796, 2769, 5198, 3318, 23715, 2015, 3942, 4957, 2085, 2707, 9359, 6209, 15138, 6706, 4957, 19802, 6485, 2175, 16382, 19043, 5310, 2047, 19116, 7861, 29147, 2072, 4957, 19802, 6485, 2047, 15132, 6279, 5310, 3819, 5798, 4474, 2175, 4638, 2137, 28637, 3436, 27694, 18885, 15132, 22264, 4957, 4957, 19802, 19387, 5310, 5310, 2938, 2502, 3062, 2050, 2178, 2792, 2466, 7292, 5310, 7861, 29147, 2072, 4957, 19802, 19387, 5310, 21146, 4160, 7566, 9680, 2971, 8214, 2327, 7861, 3401, 2229, 23713, 6903, 2466, 7292, 21146, 4160, 7861, 29147, 2072, 4957, 19802, 19387, 5310, 6745, 2792, 2466, 7292, 21146, 4160, 5310, 28667, 9331, 2015, 5310, 1521, 1055, 2621, 7292, 7357, 6520, 7937, 7861, 29147, 2072, 4957, 19802, 4931, 4364, 2667, 2191, 2769, 2217, 15876, 22516, 5310, 1521, 1055, 2288, 2067, 3696, 3143, 4107, 6706, 2097, 2404, 2769, 4979, 2123, 1521, 1056, 2903, 2156, 9361, 4957, 6485, 4957, 19802, 2131, 22068, 4313, 1516, 3693, 8627, 3940, 2814, 2155, 7504, 2319, 11360, 2273, 4095, 15879, 8322, 8059, 2791, 3204, 2281, 4957, 19802, 2272, 2402, 16587, 2292, 1521, 1055, 2156, 4933, 12040, 5691, 4957, 12476, 3426, 5310, 5310, 12476, 11580, 5365, 6794, 4268, 23665, 4183, 14081, 11444, 2140, 19802, 5310, 4283, 25805, 22717, 2015, 2293, 3080, 3428, 1017, 2293, 1061, 1521, 2035, 2293, 27467, 3401, 19802, 13580, 4328, 2197, 2305, 5310, 2569, 6368, 2190, 2048, 5341, 4378, 2372, 2435, 5310, 12935, 2080, 4569, 2477, 5454, 11263, 2078, 4748, 4957, 19802, 2360, 8305, 2095, 8683, 12458, 28891, 2063, 2028, 2279, 2307, 5889, 4245, 24387, 6832, 3048, 2836, 2879, 8084, 19637, 2094, 6905, 6469, 2729, 2291, 5310, 2442, 18866, 8081, 14876, 6238, 16302, 4957, 19802, 4931, 4364, 2667, 2191, 2769, 2217, 15876, 22516, 5310, 1521, 1055, 2288, 2067, 3696, 3143, 4107, 6706, 2097, 2404, 2769, 4979, 2123, 1521, 1056, 2903, 2156, 9361, 4957, 6485, 4957, 19802, 6469, 16302, 5325, 2637, 8509, 17422, 8889, 2692, 4268, 2291, 2028, 2051, 6079, 18787, 23713, 2484, 3325, 11573, 2791, 12520, 3842, 1521, 1055, 3360, 10107, 100, 2143, 5310, 23713, 3693, 2929, 8081, 14876, 6238, 16302, 4957, 19802, 4931, 5310, 2746, 21146, 4160, 2015, 3321, 3340, 5310, 4826, 2305, 2657, 2471, 2853, 100, 4957, 4957, 19802, 2126, 5926, 2733, 5869, 7136, 2172, 4569, 5310, 5310, 5310, 2307, 2305, 1046, 16558, 6136, 1046, 16558, 14081, 4748, 4957, 19802, 19387, 5310, 2298, 3336, 4283, 5310, 4957, 19802, 5310, 2614, 12873, 6337, 27263, 19802, 5310, 1057, 2085, 7570, 9856, 19802, 5310, 10047, 2319, 2730, 19802, 5310, 2196, 5665, 19802, 5310, 6069, 3102, 22953, 10760, 3098, 6069, 7697, 2160, 2362, 2136, 3321, 8095, 14117, 2015, 19802, 2298, 3336, 4283, 5310, 4957, 19802, 2116, 6469, 4268, 6015, 15486, 9479, 23713, 16999, 10047, 7098, 3237, 23713, 10886, 3135, 5310, 18988, 2047, 2143, 2097, 2191, 4969, 6765, 5310, 5310, 2101, 2733, 4957, 19802, 2448, 1040, 12458, 9389, 10020, 14757, 4957, 19802, 2307, 2739, 1045, 1521, 1049, 27025, 2814, 5310, 2507, 3382, 3693, 2208, 2028, 17175, 2638, 7861, 29147, 2072, 6723, 2969, 2666, 4521, 5310, 10733, 7861, 29147, 2072, 3942, 2275, 5310, 7861, 29147, 2072, 4965, 10445, 21146, 4160, 26760, 4402, 4523, 2651, 5310, 4957, 4748, 4957, 19802, 5385, 2493, 9182, 4732, 11338, 5280, 10593, 11721, 2363, 13383, 2015, 5310, 2833, 5310, 2112, 2120, 13509, 2692, 13383, 2507, 9497, 12297, 10024, 14232, 9844, 11440, 24618, 16414, 5302, 4478, 13509, 2692, 3942, 4957, 4957, 19802, 5869, 7136, 2569, 2028, 3892, 1060, 2015, 2834, 2183, 19272, 1045, 1521, 1049, 7558, 2156, 7861, 29147, 2072, 4957, 19802, 7861, 29147, 28524, 17643, 28970, 9285, 2095, 1521, 1055, 5310, 3360, 2095, 17853, 2092, 2095, 1521, 1055, 3360, 2095, 3453, 21876, 3693, 4012, 3549, 4667, 4177, 4826, 5333, 14704, 10733, 3932, 5310, 7861, 29147, 2072, 6485, 4957, 19802, 19387, 5310, 2663, 3113, 23713, 17021, 6520, 7937, 9875, 5310, 3940, 9735, 2156, 5095, 7886, 2475, 7861, 29147, 2072, 4607, 4957, 19802, 8502, 3062, 2050, 7861, 29147, 2072, 2448, 8305, 4003, 5310, 2085, 100, 4957, 4957, 19802, 2116, 6469, 4268, 6015, 15486, 9479, 23713, 16999, 10047, 7098, 3237, 23713, 10886, 3135, 5310, 18988, 2047, 2143, 2097, 2191, 4969, 6765, 5310, 5310, 2101, 2733, 4957, 19802, 5310, 2081, 12935, 2080, 3071, 7294, 8592, 9144, 2215, 7262, 3749, 10373, 21146, 28940, 8043, 9006, 6485, 5454, 11263, 2078, 11485, 26775, 27020, 18809, 2063, 2821, 3398, 2342, 10373, 9402, 23632, 2683, 4957, 19802, 19387, 5310, 2321, 2595, 2035, 14117, 1018, 2595, 6452, 3410, 1017, 2595, 4399, 12041, 1016, 2595, 4577, 3410, 1015, 2312, 2275, 2735, 10880, 2015, 4957, 19802, 5310, 2085, 10474, 4957, 19802, 5310, 2204, 21849, 19802, 19387, 5310, 3819, 4566, 13547, 11387, 16147, 8750, 5213, 2161, 1016, 3966, 4957, 19802, 25307, 2925, 4157, 2215, 3046, 11562, 4957, 2224, 3642, 21146, 4160, 24454, 6292, 2248, 3597, 16020, 11960, 2100, 6485, 4957, 5310, 4957, 19802, 6469, 3211, 5104, 2619, 2842, 1521, 1055, 4268, 1516, 2027, 1521, 2128, 4268, 2172, 2393, 2202, 2895, 23713, 3693, 2954, 6469, 4268, 4957, 24471, 2140, 6728, 2098, 7861, 8270, 4957, 4957, 19802, 4067, 5310, 4957, 19802, 19387, 5310, 2651, 5310, 5188, 4553, 2028, 5221, 3415, 7861, 29147, 2072, 2150, 3144, 6883, 2003, 1529, 19802, 2156, 2210, 8937, 5310, 3984, 3087, 11178, 2161, 6765, 2068, 19895, 2098, 7741, 2121, 3892, 1022, 2361, 2581, 2278, 19802, 2204, 3331, 10733, 5689, 5310, 5310, 2814, 3422, 2440, 2466, 4957, 4957, 19802, 2559, 5335, 16156, 5310, 2097, 3477, 3318, 23715, 2015, 7678, 2034, 6959, 15453, 4132, 7494, 2924, 9883, 5427, 6165, 2814, 6706, 2215, 3477, 4638, 4957, 6485, 4957, 19802, 5310, 3693, 9587, 4095, 23270, 5310, 6520, 18389, 2884, 10047, 2546, 11387, 16147, 2132, 25153, 2545, 12931, 13473, 2361, 3321, 27275, 4283, 5674, 4957, 19802, 4283, 5310, 2293, 5310, 6335, 21818, 4017, 5802, 2696, 3750, 11253, 8566, 5910, 2618, 2361, 10047, 2546, 11387, 16147, 20228, 3126, 2132, 25153, 2545, 6520, 18389, 2884, 5674, 2189, 2782, 4957, 19802, 2051, 2770, 12040, 2544, 5310, 29262, 3382, 2156, 6173, 5944, 23713, 17559, 28781, 2444, 7136, 4638, 6136, 12040, 4957, 2244, 2570, 10476, 6485, 4957, 19802, 2215, 2507, 2569, 11245, 5833, 6397, 3239, 3063, 6796, 26016, 18722, 13301, 6429, 3132, 3179, 3538, 6633, 29147, 2072, 5310, 4950, 4957, 19802, 2364, 2158, 13642, 10441, 5339, 2518, 4957, 19802, 9706, 14573, 8780, 6190, 9489, 2011, 29427, 2378, 26016, 18722, 9152, 29251, 2100, 15876, 22516, 4957, 19802, 10047, 3201, 5310, 5958, 5865, 3201, 2175, 2524, 6770, 9735, 13512, 13512, 4957, 4957, 19802, 5865, 2183, 3773, 4334, 2279, 5353, 5310, 19802, 19387, 5310, 2655, 4611, 9686, 25378, 2223, 3985, 2746, 3190, 5310, 11757, 7098, 5050, 27370, 2103, 1521, 1055, 1051, 1529, 19802, 2298, 27120, 5310, 2911, 2708, 4569, 2961, 2124, 4569, 4638, 2051, 3406, 7292, 7861, 29147, 2072, 5454, 11263, 2078, 11485, 6485, 4957, 19802, 27084, 2389, 7568, 14970, 1045, 1521, 1049, 5026, 5310, 5310, 27649, 2203, 10476, 2502, 5428, 19766, 4957, 19802, 19387, 5310, 2980, 12901, 2557, 1059, 2028, 23713, 5310, 4627, 2184, 10020, 7861, 29147, 2072, 2123, 1521, 1056, 2215, 3335, 2028, 8694, 7861, 29147, 2072, 4957, 19802, 3201, 14704, 3407, 2009, 1521, 1055, 2488, 2154, 5310, 2488, 10259, 6485, 4957, 19802, 5548, 3662, 21146, 4160, 2015, 3321, 3340, 2197, 5353, 4067, 2710, 100, 5310, 5310, 5310, 5310, 4957, 19802, 2814, 5310, 5310, 21146, 4160, 13122, 9905, 4747, 3450, 2621, 5094, 4268, 5770, 3436, 5310, 2156, 4957, 21146, 4160, 13122, 9905, 4747, 23564, 9397, 2891, 29278, 24146, 23564, 9397, 2891, 2082, 2483, 29278, 10105, 16912, 4957, 19802, 3751, 9201, 3748, 7861, 29147, 2072, 5310, 4957]\n"
     ]
    }
   ],
   "source": [
    "print(\"Token IDs: \", tokenizer.convert_tokens_to_ids(tokenizer.tokenize(tweets[0])))"
   ]
  },
  {
   "cell_type": "code",
   "execution_count": 28,
   "metadata": {},
   "outputs": [
    {
     "name": "stderr",
     "output_type": "stream",
     "text": [
      "Token indices sequence length is longer than the specified maximum sequence length for this model (4266 > 512). Running this sequence through the model will result in indexing errors\n"
     ]
    },
    {
     "name": "stdout",
     "output_type": "stream",
     "text": [
      "Max length:  27290\n"
     ]
    }
   ],
   "source": [
    "max_len = 0\n",
    "for tweet in tweets:\n",
    "    input_ids = tokenizer.encode(tweet, add_special_tokens=True)\n",
    "    max_len = max(max_len, len(input_ids))\n",
    "print(\"Max length: \", max_len)"
   ]
  },
  {
   "cell_type": "code",
   "execution_count": 58,
   "metadata": {},
   "outputs": [
    {
     "name": "stdout",
     "output_type": "stream",
     "text": [
      "iter:  0\n",
      "iter:  1000\n",
      "iter:  2000\n",
      "iter:  3000\n",
      "iter:  4000\n",
      "iter:  5000\n",
      "iter:  6000\n",
      "iter:  7000\n",
      "iter:  8000\n"
     ]
    }
   ],
   "source": [
    "# tokenizing tweets\n",
    "input_ids = []\n",
    "attention_masks = []\n",
    "i = 0\n",
    "for tweet in tweets:\n",
    "    if i % 1000 == 0:\n",
    "        print(\"iter: \", i)\n",
    "    encoded_dict = tokenizer.encode_plus(\n",
    "        tweet,\n",
    "        add_special_tokens=True,\n",
    "        max_length=512,\n",
    "        padding=\"max_length\",\n",
    "        truncation=True,\n",
    "        return_attention_mask=True,\n",
    "        return_tensors=\"pt\",\n",
    "    )\n",
    "    input_ids.append(encoded_dict[\"input_ids\"])\n",
    "    attention_masks.append(encoded_dict[\"attention_mask\"])\n",
    "    i += 1"
   ]
  },
  {
   "cell_type": "code",
   "execution_count": 59,
   "metadata": {},
   "outputs": [],
   "source": [
    "import torch\n",
    "\n",
    "input_ids = torch.cat(input_ids, dim=0)"
   ]
  },
  {
   "cell_type": "code",
   "execution_count": 60,
   "metadata": {},
   "outputs": [],
   "source": [
    "attention_masks = torch.cat(attention_masks, dim=0)"
   ]
  },
  {
   "cell_type": "code",
   "execution_count": 61,
   "metadata": {},
   "outputs": [],
   "source": [
    "labels = train[\"label\"]"
   ]
  },
  {
   "cell_type": "code",
   "execution_count": 62,
   "metadata": {},
   "outputs": [],
   "source": [
    "labels = torch.tensor(labels)"
   ]
  },
  {
   "cell_type": "code",
   "execution_count": 63,
   "metadata": {},
   "outputs": [],
   "source": [
    "from torch.utils.data import TensorDataset, random_split"
   ]
  },
  {
   "cell_type": "code",
   "execution_count": 64,
   "metadata": {},
   "outputs": [],
   "source": [
    "dataset = TensorDataset(input_ids, attention_masks, labels)"
   ]
  },
  {
   "cell_type": "code",
   "execution_count": 65,
   "metadata": {},
   "outputs": [],
   "source": [
    "train_size = int(0.9 * len(dataset))\n",
    "val_size = len(dataset) - train_size"
   ]
  },
  {
   "cell_type": "code",
   "execution_count": 66,
   "metadata": {},
   "outputs": [],
   "source": [
    "train_dataset, val_dataset = random_split(dataset, [train_size, val_size])"
   ]
  },
  {
   "cell_type": "code",
   "execution_count": 67,
   "metadata": {},
   "outputs": [
    {
     "name": "stdout",
     "output_type": "stream",
     "text": [
      "7,450 training samples\n",
      "  828 validation samples\n"
     ]
    }
   ],
   "source": [
    "print(\"{:>5,} training samples\".format(train_size))\n",
    "print(\"{:>5,} validation samples\".format(val_size))"
   ]
  },
  {
   "cell_type": "code",
   "execution_count": 68,
   "metadata": {},
   "outputs": [],
   "source": [
    "from torch.utils.data import DataLoader, RandomSampler, SequentialSampler\n",
    "\n",
    "batch_size = 32\n",
    "train_dataloader = DataLoader(\n",
    "    dataset=train_dataset, sampler=RandomSampler(train_dataset), batch_size=batch_size\n",
    ")\n",
    "val_dataloader = DataLoader(\n",
    "    dataset=val_dataset, sampler=SequentialSampler(val_dataset), batch_size=batch_size\n",
    ")"
   ]
  },
  {
   "cell_type": "code",
   "execution_count": 69,
   "metadata": {},
   "outputs": [
    {
     "name": "stderr",
     "output_type": "stream",
     "text": [
      "Some weights of BertForSequenceClassification were not initialized from the model checkpoint at bert-base-uncased and are newly initialized: ['classifier.weight', 'classifier.bias']\n",
      "You should probably TRAIN this model on a down-stream task to be able to use it for predictions and inference.\n"
     ]
    }
   ],
   "source": [
    "from transformers import BertForSequenceClassification, AdamW, BertConfig\n",
    "\n",
    "model = BertForSequenceClassification.from_pretrained(\n",
    "    \"bert-base-uncased\",\n",
    "    num_labels=2,\n",
    "    output_attentions=False,\n",
    "    output_hidden_states=False,\n",
    ")"
   ]
  },
  {
   "cell_type": "code",
   "execution_count": 72,
   "metadata": {},
   "outputs": [
    {
     "data": {
      "text/plain": [
       "BertForSequenceClassification(\n",
       "  (bert): BertModel(\n",
       "    (embeddings): BertEmbeddings(\n",
       "      (word_embeddings): Embedding(30522, 768, padding_idx=0)\n",
       "      (position_embeddings): Embedding(512, 768)\n",
       "      (token_type_embeddings): Embedding(2, 768)\n",
       "      (LayerNorm): LayerNorm((768,), eps=1e-12, elementwise_affine=True)\n",
       "      (dropout): Dropout(p=0.1, inplace=False)\n",
       "    )\n",
       "    (encoder): BertEncoder(\n",
       "      (layer): ModuleList(\n",
       "        (0-11): 12 x BertLayer(\n",
       "          (attention): BertAttention(\n",
       "            (self): BertSelfAttention(\n",
       "              (query): Linear(in_features=768, out_features=768, bias=True)\n",
       "              (key): Linear(in_features=768, out_features=768, bias=True)\n",
       "              (value): Linear(in_features=768, out_features=768, bias=True)\n",
       "              (dropout): Dropout(p=0.1, inplace=False)\n",
       "            )\n",
       "            (output): BertSelfOutput(\n",
       "              (dense): Linear(in_features=768, out_features=768, bias=True)\n",
       "              (LayerNorm): LayerNorm((768,), eps=1e-12, elementwise_affine=True)\n",
       "              (dropout): Dropout(p=0.1, inplace=False)\n",
       "            )\n",
       "          )\n",
       "          (intermediate): BertIntermediate(\n",
       "            (dense): Linear(in_features=768, out_features=3072, bias=True)\n",
       "            (intermediate_act_fn): GELUActivation()\n",
       "          )\n",
       "          (output): BertOutput(\n",
       "            (dense): Linear(in_features=3072, out_features=768, bias=True)\n",
       "            (LayerNorm): LayerNorm((768,), eps=1e-12, elementwise_affine=True)\n",
       "            (dropout): Dropout(p=0.1, inplace=False)\n",
       "          )\n",
       "        )\n",
       "      )\n",
       "    )\n",
       "    (pooler): BertPooler(\n",
       "      (dense): Linear(in_features=768, out_features=768, bias=True)\n",
       "      (activation): Tanh()\n",
       "    )\n",
       "  )\n",
       "  (dropout): Dropout(p=0.1, inplace=False)\n",
       "  (classifier): Linear(in_features=768, out_features=2, bias=True)\n",
       ")"
      ]
     },
     "execution_count": 72,
     "metadata": {},
     "output_type": "execute_result"
    }
   ],
   "source": [
    "device = torch.device(\"cpu\")\n",
    "model.to(device)"
   ]
  },
  {
   "cell_type": "code",
   "execution_count": 74,
   "metadata": {},
   "outputs": [],
   "source": [
    "input_ids = input_ids.to(device)\n",
    "attention_mask = attention_masks.to(device)\n",
    "labels = labels.to(device)"
   ]
  },
  {
   "cell_type": "code",
   "execution_count": 76,
   "metadata": {},
   "outputs": [
    {
     "name": "stdout",
     "output_type": "stream",
     "text": [
      "The BERT model has 201 different named parameters.\n",
      "\n",
      "==== Embedding Layer ====\n",
      "\n",
      "bert.embeddings.word_embeddings.weight                  (30522, 768)\n",
      "bert.embeddings.position_embeddings.weight                (512, 768)\n",
      "bert.embeddings.token_type_embeddings.weight                (2, 768)\n",
      "bert.embeddings.LayerNorm.weight                              (768,)\n",
      "bert.embeddings.LayerNorm.bias                                (768,)\n",
      "\n",
      "==== First Transformer ====\n",
      "\n",
      "bert.encoder.layer.0.attention.self.query.weight          (768, 768)\n",
      "bert.encoder.layer.0.attention.self.query.bias                (768,)\n",
      "bert.encoder.layer.0.attention.self.key.weight            (768, 768)\n",
      "bert.encoder.layer.0.attention.self.key.bias                  (768,)\n",
      "bert.encoder.layer.0.attention.self.value.weight          (768, 768)\n",
      "bert.encoder.layer.0.attention.self.value.bias                (768,)\n",
      "bert.encoder.layer.0.attention.output.dense.weight        (768, 768)\n",
      "bert.encoder.layer.0.attention.output.dense.bias              (768,)\n",
      "bert.encoder.layer.0.attention.output.LayerNorm.weight        (768,)\n",
      "bert.encoder.layer.0.attention.output.LayerNorm.bias          (768,)\n",
      "bert.encoder.layer.0.intermediate.dense.weight           (3072, 768)\n",
      "bert.encoder.layer.0.intermediate.dense.bias                 (3072,)\n",
      "bert.encoder.layer.0.output.dense.weight                 (768, 3072)\n",
      "bert.encoder.layer.0.output.dense.bias                        (768,)\n",
      "bert.encoder.layer.0.output.LayerNorm.weight                  (768,)\n",
      "bert.encoder.layer.0.output.LayerNorm.bias                    (768,)\n",
      "\n",
      "==== Output Layer ====\n",
      "\n",
      "bert.pooler.dense.weight                                  (768, 768)\n",
      "bert.pooler.dense.bias                                        (768,)\n",
      "classifier.weight                                           (2, 768)\n",
      "classifier.bias                                                 (2,)\n"
     ]
    }
   ],
   "source": [
    "params = list(model.named_parameters())\n",
    "print(\"The BERT model has {:} different named parameters.\\n\".format(len(params)))\n",
    "print(\"==== Embedding Layer ====\\n\")\n",
    "\n",
    "for p in params[0:5]:\n",
    "    print(\"{:<55} {:>12}\".format(p[0], str(tuple(p[1].size()))))\n",
    "\n",
    "print(\"\\n==== First Transformer ====\\n\")\n",
    "\n",
    "for p in params[5:21]:\n",
    "    print(\"{:<55} {:>12}\".format(p[0], str(tuple(p[1].size()))))\n",
    "\n",
    "print(\"\\n==== Output Layer ====\\n\")\n",
    "\n",
    "for p in params[-4:]:\n",
    "    print(\"{:<55} {:>12}\".format(p[0], str(tuple(p[1].size()))))"
   ]
  },
  {
   "cell_type": "code",
   "execution_count": 77,
   "metadata": {},
   "outputs": [],
   "source": [
    "optimizer = AdamW(params=model.parameters(), lr=2e-5, eps=1e-8)"
   ]
  },
  {
   "cell_type": "code",
   "execution_count": 78,
   "metadata": {},
   "outputs": [],
   "source": [
    "from transformers import get_linear_schedule_with_warmup\n",
    "\n",
    "epochs = 4\n",
    "total_steps = len(train_dataset) * epochs\n",
    "scheduler = get_linear_schedule_with_warmup(\n",
    "    optimizer=optimizer, num_warmup_steps=0, num_training_steps=total_steps\n",
    ")"
   ]
  },
  {
   "cell_type": "code",
   "execution_count": 79,
   "metadata": {},
   "outputs": [],
   "source": [
    "import numpy as np\n",
    "\n",
    "\n",
    "def flat_accuracy(preds, labels):\n",
    "    pred_flat = np.argmax(preds, axis=1).flatten()\n",
    "    labels_flat = labels.flatten()\n",
    "    return np.sum(pred_flat == labels_flat) / len(labels_flat)"
   ]
  },
  {
   "cell_type": "code",
   "execution_count": 80,
   "metadata": {},
   "outputs": [],
   "source": [
    "import time\n",
    "import datetime\n",
    "\n",
    "\n",
    "def format_time(elapsed):\n",
    "    elapsed_rounded = int(round(elapsed))\n",
    "    return str(datetime.timedelta(seconds=elapsed_rounded))"
   ]
  },
  {
   "cell_type": "code",
   "execution_count": 81,
   "metadata": {},
   "outputs": [],
   "source": [
    "import random\n",
    "\n",
    "seed_val = 42\n",
    "random.seed(seed_val)\n",
    "np.random.seed(seed_val)\n",
    "torch.manual_seed(seed_val)\n",
    "torch.cuda.manual_seed_all(seed_val)"
   ]
  },
  {
   "cell_type": "code",
   "execution_count": 82,
   "metadata": {},
   "outputs": [
    {
     "name": "stdout",
     "output_type": "stream",
     "text": [
      "\n",
      "======== Epoch 1 / 4 ========\n",
      "Training...\n"
     ]
    }
   ],
   "source": [
    "training_stats = []\n",
    "total_t0 = time.time()\n",
    "for epoch in range(0, epochs):\n",
    "    print(\"\")\n",
    "    print(\"======== Epoch {:} / {:} ========\".format(epoch + 1, epochs))\n",
    "    print(\"Training...\")\n",
    "\n",
    "    t0 = time.time()\n",
    "    total_train_loss = 0\n",
    "    model.train()\n",
    "    for step, batch in enumerate(train_dataloader):\n",
    "        if step % 40 == 0 and not step == 0:\n",
    "            elapsed = format_time(time.time() - t0)\n",
    "            print(\n",
    "                \"  Batch {:>5,}  of  {:>5,}.    Elapsed: {:}.\".format(\n",
    "                    step, len(train_dataloader), elapsed\n",
    "                )\n",
    "            )\n",
    "\n",
    "        b_input_ids = batch[0].to(device)\n",
    "        b_input_mask = batch[1].to(device)\n",
    "        b_labels = batch[2].to(device)\n",
    "        model.zero_grad()\n",
    "\n",
    "        loss, logits = model(\n",
    "            b_input_ids,\n",
    "            token_type_ids=None,\n",
    "            attention_mask=b_input_mask,\n",
    "            labels=b_labels,\n",
    "        )\n",
    "        total_train_loss += loss.item()\n",
    "        loss.backward()\n",
    "\n",
    "        torch.nn.utils.clip_grad_norm_(model.parameters(), 1.0)\n",
    "        optimizer.step()\n",
    "        scheduler.step()\n",
    "\n",
    "    avg_train_loss = total_train_loss / len(train_dataloader)\n",
    "    training_time = format_time(time.time() - t0)\n",
    "\n",
    "    print(\"\")\n",
    "    print(\"  Average training loss: {0:.2f}\".format(avg_train_loss))\n",
    "    print(\"  Training epcoh took: {:}\".format(training_time))\n",
    "    print(\"\")\n",
    "    print(\"Running Validation...\")\n",
    "\n",
    "    t0 = time.time()\n",
    "\n",
    "    # Put the model in evaluation mode--the dropout layers behave differently\n",
    "    # during evaluation.\n",
    "    model.eval()\n",
    "\n",
    "    # Tracking variables\n",
    "    total_eval_accuracy = 0\n",
    "    total_eval_loss = 0\n",
    "    nb_eval_steps = 0\n",
    "\n",
    "    # Evaluate data for one epoch\n",
    "    for batch in val_dataloader:\n",
    "\n",
    "        # Unpack this training batch from our dataloader.\n",
    "        #\n",
    "        # As we unpack the batch, we'll also copy each tensor to the GPU using\n",
    "        # the `to` method.\n",
    "        #\n",
    "        # `batch` contains three pytorch tensors:\n",
    "        #   [0]: input ids\n",
    "        #   [1]: attention masks\n",
    "        #   [2]: labels\n",
    "        b_input_ids = batch[0].to(device)\n",
    "        b_input_mask = batch[1].to(device)\n",
    "        b_labels = batch[2].to(device)\n",
    "\n",
    "        # Tell pytorch not to bother with constructing the compute graph during\n",
    "        # the forward pass, since this is only needed for backprop (training).\n",
    "        with torch.no_grad():\n",
    "\n",
    "            # Forward pass, calculate logit predictions.\n",
    "            # token_type_ids is the same as the \"segment ids\", which\n",
    "            # differentiates sentence 1 and 2 in 2-sentence tasks.\n",
    "            # The documentation for this `model` function is here:\n",
    "            # https://huggingface.co/transformers/v2.2.0/model_doc/bert.html#transformers.BertForSequenceClassification\n",
    "            # Get the \"logits\" output by the model. The \"logits\" are the output\n",
    "            # values prior to applying an activation function like the softmax.\n",
    "            (loss, logits) = model(\n",
    "                b_input_ids,\n",
    "                token_type_ids=None,\n",
    "                attention_mask=b_input_mask,\n",
    "                labels=b_labels,\n",
    "            )\n",
    "\n",
    "        # Accumulate the validation loss.\n",
    "        total_eval_loss += loss.item()\n",
    "\n",
    "        # Move logits and labels to CPU\n",
    "        logits = logits.detach().cpu().numpy()\n",
    "        label_ids = b_labels.to(\"cpu\").numpy()\n",
    "\n",
    "        # Calculate the accuracy for this batch of test sentences, and\n",
    "        # accumulate it over all batches.\n",
    "        total_eval_accuracy += flat_accuracy(logits, label_ids)\n",
    "\n",
    "    # Report the final accuracy for this validation run.\n",
    "    avg_val_accuracy = total_eval_accuracy / len(val_dataloader)\n",
    "    print(\"  Accuracy: {0:.2f}\".format(avg_val_accuracy))\n",
    "\n",
    "    # Calculate the average loss over all of the batches.\n",
    "    avg_val_loss = total_eval_loss / len(val_dataloader)\n",
    "\n",
    "    # Measure how long the validation run took.\n",
    "    validation_time = format_time(time.time() - t0)\n",
    "\n",
    "    print(\"  Validation Loss: {0:.2f}\".format(avg_val_loss))\n",
    "    print(\"  Validation took: {:}\".format(validation_time))\n",
    "\n",
    "    # Record all statistics from this epoch.\n",
    "    training_stats.append(\n",
    "        {\n",
    "            \"epoch\": epoch + 1,\n",
    "            \"Training Loss\": avg_train_loss,\n",
    "            \"Valid. Loss\": avg_val_loss,\n",
    "            \"Valid. Accur.\": avg_val_accuracy,\n",
    "            \"Training Time\": training_time,\n",
    "            \"Validation Time\": validation_time,\n",
    "        }\n",
    "    )\n",
    "\n",
    "print(\"\")\n",
    "print(\"Training complete!\")\n",
    "\n",
    "print(\"Total training took {:} (h:mm:ss)\".format(format_time(time.time() - total_t0)))"
   ]
  },
  {
   "cell_type": "code",
   "execution_count": null,
   "metadata": {},
   "outputs": [],
   "source": []
  }
 ],
 "metadata": {
  "kernelspec": {
   "display_name": "base",
   "language": "python",
   "name": "python3"
  },
  "language_info": {
   "codemirror_mode": {
    "name": "ipython",
    "version": 3
   },
   "file_extension": ".py",
   "mimetype": "text/x-python",
   "name": "python",
   "nbconvert_exporter": "python",
   "pygments_lexer": "ipython3",
   "version": "3.11.5"
  }
 },
 "nbformat": 4,
 "nbformat_minor": 2
}
