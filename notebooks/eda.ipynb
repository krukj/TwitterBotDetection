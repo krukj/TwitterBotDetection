{
 "cells": [
  {
   "cell_type": "code",
   "execution_count": 1,
   "metadata": {},
   "outputs": [],
   "source": [
    "import pandas as pd\n",
    "import sys\n",
    "import os\n",
    "\n",
    "sys.path.append(os.path.abspath(os.path.join(os.getcwd(), \"..\", \"src\")))\n",
    "\n",
    "from visualizations import plot_label_distribution\n",
    "\n",
    "DATA_PATH = \"../data\""
   ]
  },
  {
   "cell_type": "markdown",
   "metadata": {},
   "source": [
    "## **TwiBot-20**\n"
   ]
  },
  {
   "cell_type": "markdown",
   "metadata": {},
   "source": [
    "### **Tweets**"
   ]
  },
  {
   "cell_type": "markdown",
   "metadata": {},
   "source": [
    "**Description**\n",
    "- ```ID```: the ID from Twitter identifying the user.\n",
    "- ```profile```: the profile information obtained from Twitter API.\n",
    "- ```tweet```: the recent 200 tweets of this user.\n",
    "- ```neighbor```: the random 20 followers and followings of this user.\n",
    "- ```domain```: the domain of this user and the domains include politics, business, entertainment and sports.\n",
    "- ```label```: the label of this user and '1' means it is a bot while '0' means it is a human."
   ]
  },
  {
   "cell_type": "code",
   "execution_count": 2,
   "metadata": {},
   "outputs": [],
   "source": [
    "train = pd.read_json(DATA_PATH + \"/Twibot20/tweets/train.json\")"
   ]
  },
  {
   "cell_type": "code",
   "execution_count": 3,
   "metadata": {},
   "outputs": [
    {
     "data": {
      "text/html": [
       "<div>\n",
       "<style scoped>\n",
       "    .dataframe tbody tr th:only-of-type {\n",
       "        vertical-align: middle;\n",
       "    }\n",
       "\n",
       "    .dataframe tbody tr th {\n",
       "        vertical-align: top;\n",
       "    }\n",
       "\n",
       "    .dataframe thead th {\n",
       "        text-align: right;\n",
       "    }\n",
       "</style>\n",
       "<table border=\"1\" class=\"dataframe\">\n",
       "  <thead>\n",
       "    <tr style=\"text-align: right;\">\n",
       "      <th></th>\n",
       "      <th>ID</th>\n",
       "      <th>profile</th>\n",
       "      <th>tweet</th>\n",
       "      <th>neighbor</th>\n",
       "      <th>domain</th>\n",
       "      <th>label</th>\n",
       "    </tr>\n",
       "  </thead>\n",
       "  <tbody>\n",
       "    <tr>\n",
       "      <th>0</th>\n",
       "      <td>17461978</td>\n",
       "      <td>{'id': '17461978 ', 'id_str': '17461978 ', 'na...</td>\n",
       "      <td>[RT @CarnivalCruise: 🎉 Are you ready to see wh...</td>\n",
       "      <td>None</td>\n",
       "      <td>[Politics, Business, Entertainment]</td>\n",
       "      <td>0</td>\n",
       "    </tr>\n",
       "    <tr>\n",
       "      <th>1</th>\n",
       "      <td>1297437077403885568</td>\n",
       "      <td>{'id': '1297437077403885568 ', 'id_str': '1297...</td>\n",
       "      <td>None</td>\n",
       "      <td>{'following': ['170861207', '23970102', '47293...</td>\n",
       "      <td>[Politics]</td>\n",
       "      <td>1</td>\n",
       "    </tr>\n",
       "    <tr>\n",
       "      <th>2</th>\n",
       "      <td>17685258</td>\n",
       "      <td>{'id': '17685258 ', 'id_str': '17685258 ', 'na...</td>\n",
       "      <td>[RT @realDonaldTrump: THANK YOU #RNC2020! http...</td>\n",
       "      <td>{'following': ['46464108', '21536398', '186434...</td>\n",
       "      <td>[Politics, Entertainment, Sports]</td>\n",
       "      <td>0</td>\n",
       "    </tr>\n",
       "    <tr>\n",
       "      <th>3</th>\n",
       "      <td>15750898</td>\n",
       "      <td>{'id': '15750898 ', 'id_str': '15750898 ', 'na...</td>\n",
       "      <td>[A family fears they may have been cheated out...</td>\n",
       "      <td>{'following': ['2324715174', '24030137', '2336...</td>\n",
       "      <td>[Politics]</td>\n",
       "      <td>0</td>\n",
       "    </tr>\n",
       "    <tr>\n",
       "      <th>4</th>\n",
       "      <td>1659167666</td>\n",
       "      <td>{'id': '1659167666 ', 'id_str': '1659167666 ',...</td>\n",
       "      <td>[RT @VonteThePlug: Yeah but he ain’t got one h...</td>\n",
       "      <td>{'following': ['1628313708', '726405625', '130...</td>\n",
       "      <td>[Politics]</td>\n",
       "      <td>1</td>\n",
       "    </tr>\n",
       "  </tbody>\n",
       "</table>\n",
       "</div>"
      ],
      "text/plain": [
       "                    ID                                            profile  \\\n",
       "0             17461978  {'id': '17461978 ', 'id_str': '17461978 ', 'na...   \n",
       "1  1297437077403885568  {'id': '1297437077403885568 ', 'id_str': '1297...   \n",
       "2             17685258  {'id': '17685258 ', 'id_str': '17685258 ', 'na...   \n",
       "3             15750898  {'id': '15750898 ', 'id_str': '15750898 ', 'na...   \n",
       "4           1659167666  {'id': '1659167666 ', 'id_str': '1659167666 ',...   \n",
       "\n",
       "                                               tweet  \\\n",
       "0  [RT @CarnivalCruise: 🎉 Are you ready to see wh...   \n",
       "1                                               None   \n",
       "2  [RT @realDonaldTrump: THANK YOU #RNC2020! http...   \n",
       "3  [A family fears they may have been cheated out...   \n",
       "4  [RT @VonteThePlug: Yeah but he ain’t got one h...   \n",
       "\n",
       "                                            neighbor  \\\n",
       "0                                               None   \n",
       "1  {'following': ['170861207', '23970102', '47293...   \n",
       "2  {'following': ['46464108', '21536398', '186434...   \n",
       "3  {'following': ['2324715174', '24030137', '2336...   \n",
       "4  {'following': ['1628313708', '726405625', '130...   \n",
       "\n",
       "                                domain  label  \n",
       "0  [Politics, Business, Entertainment]      0  \n",
       "1                           [Politics]      1  \n",
       "2    [Politics, Entertainment, Sports]      0  \n",
       "3                           [Politics]      0  \n",
       "4                           [Politics]      1  "
      ]
     },
     "execution_count": 3,
     "metadata": {},
     "output_type": "execute_result"
    }
   ],
   "source": [
    "train.head()"
   ]
  },
  {
   "cell_type": "code",
   "execution_count": 4,
   "metadata": {},
   "outputs": [
    {
     "name": "stdout",
     "output_type": "stream",
     "text": [
      "<class 'pandas.core.frame.DataFrame'>\n",
      "RangeIndex: 8278 entries, 0 to 8277\n",
      "Data columns (total 6 columns):\n",
      " #   Column    Non-Null Count  Dtype \n",
      "---  ------    --------------  ----- \n",
      " 0   ID        8278 non-null   int64 \n",
      " 1   profile   8278 non-null   object\n",
      " 2   tweet     8223 non-null   object\n",
      " 3   neighbor  7524 non-null   object\n",
      " 4   domain    8278 non-null   object\n",
      " 5   label     8278 non-null   int64 \n",
      "dtypes: int64(2), object(4)\n",
      "memory usage: 388.2+ KB\n"
     ]
    }
   ],
   "source": [
    "train.info()"
   ]
  },
  {
   "cell_type": "code",
   "execution_count": 5,
   "metadata": {},
   "outputs": [
    {
     "data": {
      "text/plain": [
       "label\n",
       "1    4646\n",
       "0    3632\n",
       "Name: count, dtype: int64"
      ]
     },
     "execution_count": 5,
     "metadata": {},
     "output_type": "execute_result"
    }
   ],
   "source": [
    "train[\"label\"].value_counts()"
   ]
  },
  {
   "cell_type": "code",
   "execution_count": 6,
   "metadata": {},
   "outputs": [
    {
     "data": {
      "image/png": "[encoded data removed]",
      "text/plain": [
       "<Figure size 1000x600 with 1 Axes>"
      ]
     },
     "metadata": {},
     "output_type": "display_data"
    }
   ],
   "source": [
    "plot_label_distribution(train)"
   ]
  }
 ],
 "metadata": {
  "kernelspec": {
   "display_name": "Python 3",
   "language": "python",
   "name": "python3"
  },
  "language_info": {
   "codemirror_mode": {
    "name": "ipython",
    "version": 3
   },
   "file_extension": ".py",
   "mimetype": "text/x-python",
   "name": "python",
   "nbconvert_exporter": "python",
   "pygments_lexer": "ipython3",
   "version": "3.12.2"
  }
 },
 "nbformat": 4,
 "nbformat_minor": 2
}
